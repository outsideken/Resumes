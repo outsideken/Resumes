{
 "cells": [
  {
   "cell_type": "markdown",
   "metadata": {
    "collapsed": false,
    "scrolled": true
   },
   "source": [
    "## 04 - sklearn TfidfVectorizer() and KMeans()\n",
    "\n",
    "* [sklearn.feature_extraction.text.TfidfVectorizer](http://scikit-learn.org/stable/modules/generated/sklearn.feature_extraction.text.TfidfVectorizer.html)\n",
    "* [sklearn.feature_extraction.text.CountVectorizer](http://scikit-learn.org/stable/modules/generated/sklearn.feature_extraction.text.CountVectorizer.html)\n",
    "* [sklearn.metrics.pairwise.pairwise_distances](http://scikit-learn.org/stable/modules/generated/sklearn.metrics.pairwise.pairwise_distances.html)\n",
    "\n",
    "* [k-means clustering](https://en.wikipedia.org/wiki/K-means_clustering)\n",
    "* [sklearn KMeans()](http://scikit-learn.org/stable/modules/clustering.html#k-means)\n",
    "* [Document Clustering with Python](http://brandonrose.org/clustering)\n",
    "\n",
    "This ipython notebook evaulates both CountVectorizer and TfidfVectorizer with KMeans to cluster resumes."
   ]
  },
  {
   "cell_type": "code",
   "execution_count": 47,
   "metadata": {
    "collapsed": false
   },
   "outputs": [],
   "source": [
    "import nltk\n",
    "import pandas as pd\n",
    "import numpy as np\n",
    "import pickle\n",
    "import pymongo\n",
    "import seaborn as sns\n",
    "import string\n",
    "import re\n",
    "import os\n",
    "\n",
    "from collections import defaultdict, Counter\n",
    "\n",
    "## NLP\n",
    "from nltk.corpus import treebank, stopwords\n",
    "from nltk import bigrams, trigrams\n",
    "from nltk.stem import WordNetLemmatizer\n",
    "\n",
    "from sklearn.feature_extraction.text import CountVectorizer, TfidfVectorizer\n",
    "from sklearn.cluster import KMeans, AgglomerativeClustering, DBSCAN\n",
    "from sklearn.metrics.pairwise import cosine_similarity, pairwise_distances\n",
    "from sklearn.neighbors import kneighbors_graph\n",
    "\n",
    "from textblob import TextBlob\n",
    "\n",
    "from sklearn.manifold import MDS\n",
    "\n",
    "## Database\n",
    "from pymongo import MongoClient\n",
    "\n",
    "## Visualization\n",
    "from wordcloud import WordCloud, STOPWORDS, ImageColorGenerator\n",
    "import matplotlib.pyplot as plt\n",
    "\n",
    "%matplotlib inline"
   ]
  },
  {
   "cell_type": "code",
   "execution_count": 48,
   "metadata": {
    "collapsed": true
   },
   "outputs": [],
   "source": [
    "def pickleme(temp, filename):\n",
    "    \n",
    "    with open(filename + '.pkl', 'w') as picklefile:\n",
    "        pickle.dump(temp, picklefile)\n",
    "    \n",
    "    return"
   ]
  },
  {
   "cell_type": "code",
   "execution_count": 49,
   "metadata": {
    "collapsed": true
   },
   "outputs": [],
   "source": [
    "def getpickle(filename):\n",
    "\n",
    "    try:\n",
    "        with open(filename + '.pkl', 'rb') as picklefile:\n",
    "            return pickle.load(picklefile)\n",
    "    except:\n",
    "        return 'There was an error trying to read this file.  Please check the filename or path.'"
   ]
  },
  {
   "cell_type": "code",
   "execution_count": 50,
   "metadata": {
    "collapsed": true
   },
   "outputs": [],
   "source": [
    "def tokenizenstem(temp, stem = True, nouns = True):\n",
    "    \n",
    "    global stopwords\n",
    "    \n",
    "    temptokens = []\n",
    "    \n",
    "    if nouns:\n",
    "        blob = TextBlob(temp)\n",
    "        tokens = blob.noun_phrases\n",
    "    else:\n",
    "        tokens = nltk.word_tokenize(temp)\n",
    "    \n",
    "    ##  Creates instance of WordNetLemmatizer\n",
    "    wnl = WordNetLemmatizer()\n",
    "    \n",
    "    for word in tokens:\n",
    "        if word.lower() not in stopwords and word not in string.punctuation and len(word) > 2:# and re.search('[a-zA-Z]', word):\n",
    "            if stem:\n",
    "                temptokens.append(wnl.lemmatize(word.lower()))\n",
    "            else:\n",
    "                temptokens.append(word.lower())\n",
    "    \n",
    "    return temptokens"
   ]
  },
  {
   "cell_type": "code",
   "execution_count": 51,
   "metadata": {
    "collapsed": true
   },
   "outputs": [],
   "source": [
    "def getstopwords():\n",
    "\n",
    "    STOP_WORDS = list(getpickle('stopwords'))\n",
    "    stopwords = getpickle('resumestopwords')\n",
    "    \n",
    "    stopwords = [item for sublist in [list(STOP_WORDS) + stopwords] for item in sublist]\n",
    "    \n",
    "    return stopwords"
   ]
  },
  {
   "cell_type": "code",
   "execution_count": 52,
   "metadata": {
    "collapsed": true
   },
   "outputs": [],
   "source": [
    "def addtostoplist(tempword):\n",
    "    \n",
    "    stopwords = getpickle('resumestopwords')\n",
    "    \n",
    "    stopwords.append(tempword)\n",
    "    \n",
    "    stopwords = list(set(stopwords))\n",
    "    \n",
    "    pickleme(stopwords, 'resumestopwords')\n",
    "    \n",
    "    print tempword + ' added to State of the Union stop word list.'\n",
    "    \n",
    "    return"
   ]
  },
  {
   "cell_type": "code",
   "execution_count": 53,
   "metadata": {
    "collapsed": false
   },
   "outputs": [],
   "source": [
    "colors = getpickle('tableaucolors')\n",
    "stopwords = getstopwords()"
   ]
  },
  {
   "cell_type": "code",
   "execution_count": 9,
   "metadata": {
    "collapsed": false
   },
   "outputs": [
    {
     "name": "stdout",
     "output_type": "stream",
     "text": [
      "Service `mongodb` already started, use `brew services restart mongodb` to restart.\r\n"
     ]
    }
   ],
   "source": [
    "! brew services start mongodb"
   ]
  },
  {
   "cell_type": "code",
   "execution_count": 10,
   "metadata": {
    "collapsed": true
   },
   "outputs": [],
   "source": [
    "# ! brew services stop mongodb"
   ]
  },
  {
   "cell_type": "code",
   "execution_count": 54,
   "metadata": {
    "collapsed": false
   },
   "outputs": [],
   "source": [
    "## Initialize MongoDB for use\n",
    "client = MongoClient()\n",
    "db = client['resume_db']\n",
    "resumes = db.resume_collection"
   ]
  },
  {
   "cell_type": "code",
   "execution_count": 55,
   "metadata": {
    "collapsed": false
   },
   "outputs": [
    {
     "name": "stdout",
     "output_type": "stream",
     "text": [
      "Count of number of documents: 73\n",
      "Keys in one example document: [u'_id', u'Id', u'Resume']\n"
     ]
    }
   ],
   "source": [
    "print \"Count of number of documents:\", resumes.count()\n",
    "print \"Keys in one example document:\", resumes.find_one().keys()\n",
    "# resumes.find_one() # Uncomment this line to see what a full document looks like."
   ]
  },
  {
   "cell_type": "code",
   "execution_count": 56,
   "metadata": {
    "collapsed": false
   },
   "outputs": [
    {
     "name": "stdout",
     "output_type": "stream",
     "text": [
      "73 73\n"
     ]
    }
   ],
   "source": [
    "corpus = []\n",
    "tokens = []\n",
    "\n",
    "for resume in resumes.find({}, {'Resume' : 1, \"_id\": 0}):\n",
    "    corpus.append(resume['Resume'])\n",
    "    tokens.append(tokenizenstem(resume['Resume'], stem = True, nouns = False))\n",
    "\n",
    "print len(corpus), len(tokens)"
   ]
  },
  {
   "cell_type": "code",
   "execution_count": 57,
   "metadata": {
    "collapsed": false
   },
   "outputs": [],
   "source": [
    "nouns = False\n",
    "ngrams = 3\n",
    "\n",
    "mxdf = 0.45\n",
    "mindf = 0.08\n",
    "\n",
    "totalvocab_stemmed = []\n",
    "totalvocab_tokenized = []\n",
    "\n",
    "for tempresume in corpus:\n",
    "    allwords_stemmed = tokenizenstem(tempresume, True, nouns)\n",
    "    totalvocab_stemmed.extend(allwords_stemmed)\n",
    "    \n",
    "    allwords_tokenized = tokenizenstem(tempresume, False, nouns)\n",
    "    totalvocab_tokenized.extend(allwords_tokenized)\n",
    "\n",
    "vocab_frame = pd.DataFrame({'words': totalvocab_tokenized}, index = totalvocab_stemmed)\n",
    "\n",
    "cv = False\n",
    "\n",
    "if cv == True:\n",
    "    vect = CountVectorizer(input = 'content', encoding = 'utf-8', decode_error = 'strict', strip_accents = None,\n",
    "                           lowercase=True, preprocessor = None, tokenizer = tokenizenstem, stop_words = stopwords,\n",
    "                           token_pattern='(?u)\\b\\w\\w+\\b', ngram_range = (1, ngrams), analyzer = 'word', \n",
    "                           max_df = mxdf, min_df = mindf, max_features = None, vocabulary = None, binary = False)    \n",
    "else:\n",
    "    vect = TfidfVectorizer(input='content', encoding='utf-8', decode_error='strict', strip_accents=None, \n",
    "                           lowercase=True, preprocessor=None, tokenizer = tokenizenstem, analyzer='word', \n",
    "                           stop_words = stopwords, token_pattern='(?u)\\b\\w\\w+\\b', ngram_range=(1, ngrams), \n",
    "                           max_df = mxdf, min_df = mindf, max_features=None, vocabulary=None, binary=False,\n",
    "                           norm='l2', use_idf=True, smooth_idf=True, sublinear_tf=False)\n",
    "\n",
    "\n",
    "tfidfmatrix = vect.fit_transform(corpus)"
   ]
  },
  {
   "cell_type": "code",
   "execution_count": 58,
   "metadata": {
    "collapsed": false,
    "scrolled": false
   },
   "outputs": [
    {
     "data": {
      "text/plain": [
       "(73, 92)"
      ]
     },
     "execution_count": 58,
     "metadata": {},
     "output_type": "execute_result"
    }
   ],
   "source": [
    "tfidfmatrix.shape"
   ]
  },
  {
   "cell_type": "code",
   "execution_count": 59,
   "metadata": {
    "collapsed": false
   },
   "outputs": [],
   "source": [
    "terms = vect.get_feature_names()\n",
    "\n",
    "dist = 1 - cosine_similarity(tfidfmatrix)"
   ]
  },
  {
   "cell_type": "markdown",
   "metadata": {},
   "source": [
    "## sklearn KMeans()"
   ]
  },
  {
   "cell_type": "code",
   "execution_count": 60,
   "metadata": {
    "collapsed": false
   },
   "outputs": [],
   "source": [
    "num_clusters = 5\n",
    "\n",
    "km = KMeans(n_clusters = num_clusters)\n",
    "km.fit(tfidfmatrix)\n",
    "\n",
    "clusters = km.labels_.tolist()\n",
    "\n",
    "cluster = defaultdict(int)\n",
    "\n",
    "for i, node in enumerate(clusters):\n",
    "    cluster[node] += 1\n",
    "\n",
    "resnames = getpickle('resumenames')\n",
    "\n",
    "# print len(clusters), len(resnames)\n",
    "\n",
    "resumes = {'Resume' : resnames , 'cluster': clusters}\n",
    "\n",
    "frame = pd.DataFrame({'Resume' : resnames, \n",
    "                      'Cluster': clusters})\n",
    "\n",
    "clusterres = defaultdict(list)\n",
    "\n",
    "for i in range(len(corpus)):\n",
    "    clusterres[clusters[i]].append(resnames[i])"
   ]
  },
  {
   "cell_type": "code",
   "execution_count": 61,
   "metadata": {
    "collapsed": false
   },
   "outputs": [
    {
     "data": {
      "text/plain": [
       "4    20\n",
       "2    17\n",
       "1    16\n",
       "3    11\n",
       "0     9\n",
       "Name: Cluster, dtype: int64"
      ]
     },
     "execution_count": 61,
     "metadata": {},
     "output_type": "execute_result"
    }
   ],
   "source": [
    "frame['Cluster'].value_counts()"
   ]
  },
  {
   "cell_type": "code",
   "execution_count": 46,
   "metadata": {
    "collapsed": false
   },
   "outputs": [
    {
     "name": "stdout",
     "output_type": "stream",
     "text": [
      "Top terms per cluster:\n",
      "\n",
      "Cluster 0 \n",
      "\tSample words:\t\n",
      "\tResumes:\t['Resume 004', 'Resume 010', 'Resume 011', 'Resume 012', 'Resume 015', 'Resume 017', 'Resume 020', 'Resume 021', 'Resume 031', 'Resume 034', 'Resume 036', 'Resume 039', 'Resume 047', 'Resume 050', 'Resume 052', 'Resume 060', 'Resume 068', 'Resume 072']\n",
      "Cluster 1 \n",
      "\tSample words:\t\n",
      "\tResumes:\t['Resume 003', 'Resume 005', 'Resume 007', 'Resume 013', 'Resume 014', 'Resume 016', 'Resume 026', 'Resume 056']\n",
      "Cluster 2 \n",
      "\tSample words:\t\n",
      "\tResumes:\t['Resume 001', 'Resume 018', 'Resume 025', 'Resume 027', 'Resume 030', 'Resume 035', 'Resume 037', 'Resume 048', 'Resume 055', 'Resume 063', 'Resume 064', 'Resume 071', 'Resume 073']\n",
      "Cluster 3 \n",
      "\tSample words:\t\n",
      "\tResumes:\t['Resume 006', 'Resume 008', 'Resume 009', 'Resume 022', 'Resume 023', 'Resume 024', 'Resume 028', 'Resume 029', 'Resume 033', 'Resume 038', 'Resume 041', 'Resume 042', 'Resume 043', 'Resume 045', 'Resume 046', 'Resume 049', 'Resume 051', 'Resume 053', 'Resume 054', 'Resume 065', 'Resume 066', 'Resume 067', 'Resume 070']\n",
      "Cluster 4 \n",
      "\tSample words:\t\n",
      "\tResumes:\t['Resume 002', 'Resume 019', 'Resume 032', 'Resume 040', 'Resume 044', 'Resume 057', 'Resume 058', 'Resume 059', 'Resume 061', 'Resume 062', 'Resume 069']\n",
      "\n",
      "\n"
     ]
    }
   ],
   "source": [
    "print 'Top terms per cluster:\\n'\n",
    "\n",
    "#sort cluster centers by proximity to centroid\n",
    "order_centroids = km.cluster_centers_.argsort()[:, ::-1] \n",
    "\n",
    "for i in range(num_clusters):\n",
    "    \n",
    "    print 'Cluster %d' % i, '\\n\\tSample words:\\t' ,\n",
    "    \n",
    "    for ind in order_centroids[i, :6]: #replace 6 with n words per cluster\n",
    "        print '%s' % vocab_frame.ix[terms[ind].split(' ')].values.tolist()[0][0] + ',',\n",
    "\n",
    "    print '\\n\\tResumes:\\t',clusterres[i]\n",
    "    \n",
    "print '\\n'"
   ]
  },
  {
   "cell_type": "markdown",
   "metadata": {},
   "source": [
    "### sklearn.manifold.MDS\n",
    "\n",
    "* [sklearn.manifold.MDS](http://scikit-learn.org/stable/modules/generated/sklearn.manifold.MDS.html)"
   ]
  },
  {
   "cell_type": "code",
   "execution_count": 62,
   "metadata": {
    "collapsed": false
   },
   "outputs": [],
   "source": [
    "# dissim = 'euclidean'\n",
    "dissim = 'precomputed'\n",
    "\n",
    "\n",
    "mds = MDS(n_components = 2, dissimilarity = dissim, random_state=0)\n",
    "pos = mds.fit_transform(dist)\n",
    "\n",
    "xs, ys = pos[:, 0], pos[:, 1]"
   ]
  },
  {
   "cell_type": "code",
   "execution_count": 63,
   "metadata": {
    "collapsed": false
   },
   "outputs": [],
   "source": [
    "#set up colors per clusters using a dict\n",
    "\n",
    "cluster_colors = {0: colors[0], \n",
    "                  1: colors[1], \n",
    "                  2: colors[2], \n",
    "                  3: colors[3], \n",
    "                  4: colors[4],\n",
    "                  5: colors[5],\n",
    "                  6: colors[6],\n",
    "                  7: colors[7]}\n",
    "\n",
    "#set up cluster names using a dict\n",
    "cluster_names = {0: 'Cluster 0', \n",
    "                 1: 'Cluster 1', \n",
    "                 2: 'Cluster 2', \n",
    "                 3: 'Cluster 3',\n",
    "                 4: 'Cluster 4',\n",
    "                 5: 'Cluster 5',\n",
    "                 6: 'Cluster 6',\n",
    "                 7: 'Cluster 7'}"
   ]
  },
  {
   "cell_type": "code",
   "execution_count": 64,
   "metadata": {
    "collapsed": false,
    "scrolled": false
   },
   "outputs": [
    {
     "data": {
      "image/png": "[encoded data removed]",
      "text/plain": [
       "<matplotlib.figure.Figure at 0x11fcd6a10>"
      ]
     },
     "metadata": {},
     "output_type": "display_data"
    }
   ],
   "source": [
    "#create data frame that has the result of the MDS plus the cluster numbers and titles\n",
    "df = pd.DataFrame(dict(x=xs, y=ys, label=clusters, title=resnames)) \n",
    "\n",
    "#group by cluster\n",
    "groups = df.groupby('label')\n",
    "\n",
    "# set up plot\n",
    "fig, ax = plt.subplots(figsize=(18, 9)) # set size\n",
    "sns.set_style(\"whitegrid\")\n",
    "ax.spines['right'].set_visible(False)\n",
    "ax.spines['top'].set_visible(False)\n",
    "ax.margins(0.05) # Optional, just adds 5% padding to the autoscaling\n",
    "\n",
    "#iterate through groups to layer the plot\n",
    "#note that I use the cluster_name and cluster_color dicts with the 'name' lookup to return the appropriate color/label\n",
    "for name, group in groups:\n",
    "    ax.plot(group.x, group.y, marker='o', linestyle='', ms=12, \n",
    "            label=cluster_names[name], color=cluster_colors[name], \n",
    "            mec='none')\n",
    "    ax.set_aspect('auto')\n",
    "    ax.tick_params(\\\n",
    "        axis= 'x',          # changes apply to the x-axis\n",
    "        which='both',      # both major and minor ticks are affected\n",
    "        bottom='off',      # ticks along the bottom edge are off\n",
    "        top='off',         # ticks along the top edge are off\n",
    "        labelbottom='off')\n",
    "    ax.tick_params(\\\n",
    "        axis= 'y',         # changes apply to the y-axis\n",
    "        which='both',      # both major and minor ticks are affected\n",
    "        left='off',      # ticks along the bottom edge are off\n",
    "        top='off',         # ticks along the top edge are off\n",
    "        labelleft='off')\n",
    "\n",
    "plt.title('KMeans Clustering for Resume Corpus', fontsize = 20, fontweight = 'bold')\n",
    "ax.legend(numpoints=1)  #show legend with only 1 point\n",
    "\n",
    "#add label in x,y position with the label as the film title\n",
    "for i in range(len(df)):\n",
    "    ax.text(df.ix[i]['x'], df.ix[i]['y'], df.ix[i]['title'], size=10)  \n",
    "\n",
    "plt.grid(False)"
   ]
  },
  {
   "cell_type": "markdown",
   "metadata": {
    "collapsed": true
   },
   "source": [
    "Resume clustering is visible with KMeans, although the exact feature for the clustering is unclear.  Not all job advertisements were available at the time of the study, but it appears that clustering may be around the job advertisements for which the resumes were submitted."
   ]
  }
 ],
 "metadata": {
  "kernelspec": {
   "display_name": "Python 2",
   "language": "python",
   "name": "python2"
  },
  "language_info": {
   "codemirror_mode": {
    "name": "ipython",
    "version": 2
   },
   "file_extension": ".py",
   "mimetype": "text/x-python",
   "name": "python",
   "nbconvert_exporter": "python",
   "pygments_lexer": "ipython2",
   "version": "2.7.11"
  }
 },
 "nbformat": 4,
 "nbformat_minor": 0
}
