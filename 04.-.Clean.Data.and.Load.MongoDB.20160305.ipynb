{
 "cells": [
  {
   "cell_type": "code",
   "execution_count": 28,
   "metadata": {
    "collapsed": false
   },
   "outputs": [],
   "source": [
    "import datetime\n",
    "import pandas as pd\n",
    "import pickle\n",
    "import string\n",
    "import re\n",
    "\n",
    "from collections import defaultdict, Counter\n",
    "from os import path\n",
    "\n",
    "## Database\n",
    "import pymongo\n",
    "from pymongo import MongoClient"
   ]
  },
  {
   "cell_type": "code",
   "execution_count": 29,
   "metadata": {
    "collapsed": true
   },
   "outputs": [],
   "source": [
    "def pickleme(temp, filename):\n",
    "    \n",
    "    with open(filename + '.pkl', 'w') as picklefile:\n",
    "        pickle.dump(temp, picklefile)\n",
    "    \n",
    "    return"
   ]
  },
  {
   "cell_type": "code",
   "execution_count": 30,
   "metadata": {
    "collapsed": true
   },
   "outputs": [],
   "source": [
    "def getpickle(filename):\n",
    "\n",
    "    try:\n",
    "        with open(filename + '.pkl', 'rb') as picklefile:\n",
    "            return pickle.load(picklefile)\n",
    "    except:\n",
    "        return 'There was an error trying to read this file.  Please check the filename or path.'"
   ]
  },
  {
   "cell_type": "code",
   "execution_count": 84,
   "metadata": {
    "collapsed": false
   },
   "outputs": [],
   "source": [
    "def cleantext(temp):\n",
    "    \n",
    "    badchar = [('*', ' '), ('/', ' '), ('- ', ' '), ('--', ' '),('\\r', ' '), ('\\t', ' '), ('\\n', ' '), ('\\x8e', 'e'), \n",
    "               ('\\xe2', ' '), ('\\x80', ' '), ('\\xca', ' '), ('\\xc9', ' '), ('\\xd0', ' '), ('\\xd2', ' '), \n",
    "               ('\\xd3', ' '), ('\\xd4', ' '), ('\\xd5', ' '), ('\\xa2', ' '), ('\\xa5', ' '), ('\\xd1', ' '), \n",
    "               ('\\x93', ' '), ('\\x94', ' '), ('\\x99', ' '), ('\\xff', ' '), ('\\x82', 'e'), ('\\x0c', ' '), \n",
    "               ('\\xa0', ' '), ('\\xc2', ' '), ('\\xc3\\xa9', 'e'), ('\\x9d', ' '), ('\\x9c', ' '), ('\\x98', ' ')]\n",
    "    \n",
    "    for bad in badchar:\n",
    "        temp = temp.replace(bad[0], bad[1])\n",
    "\n",
    "    return temp"
   ]
  },
  {
   "cell_type": "markdown",
   "metadata": {},
   "source": [
    "Connect to the mongoDB server with mongo.\n",
    "```\n",
    "help\n",
    "show dbs\n",
    "use new_cool_db\n",
    "show dbs\n",
    "```"
   ]
  },
  {
   "cell_type": "code",
   "execution_count": 42,
   "metadata": {
    "collapsed": false
   },
   "outputs": [
    {
     "name": "stdout",
     "output_type": "stream",
     "text": [
      "\u001b[1;34m==>\u001b[1;39m Successfully started `mongodb` (label: homebrew.mxcl.mongodb)\u001b[0m\r\n"
     ]
    }
   ],
   "source": [
    "! brew services start mongodb"
   ]
  },
  {
   "cell_type": "code",
   "execution_count": 43,
   "metadata": {
    "collapsed": false
   },
   "outputs": [],
   "source": [
    "# ! brew services stop mongodb"
   ]
  },
  {
   "cell_type": "markdown",
   "metadata": {},
   "source": [
    "#### Read, clean, tag and load resume corpus into list of dictionaries"
   ]
  },
  {
   "cell_type": "code",
   "execution_count": 85,
   "metadata": {
    "collapsed": false,
    "scrolled": false
   },
   "outputs": [],
   "source": [
    "end = 73\n",
    "path = 'dataResumes/'\n",
    "\n",
    "## Initialize MongoDB for use\n",
    "client = MongoClient()\n",
    "db = client['resume_db']\n",
    "resumes = db.resume_collection\n",
    "\n",
    "## Clear out the database from any residual records from prior code testing\n",
    "resumes.drop()\n",
    "\n",
    "for i in range(end):\n",
    "    filename = '0' * (3 - len(str(i + 1))) + str(i + 1)\n",
    "    f = open(path + filename + '.txt', 'r')\n",
    "    \n",
    "    resumes.insert_one({ 'Id': filename,\n",
    "                     'Resume': cleantext(f.read())\n",
    "                   })"
   ]
  },
  {
   "cell_type": "code",
   "execution_count": 11,
   "metadata": {
    "collapsed": false
   },
   "outputs": [],
   "source": [
    "# ## Initialize MongoDB for use\n",
    "# client = MongoClient()\n",
    "# db = client['resume_db']\n",
    "# resumes = db.resume_collection"
   ]
  },
  {
   "cell_type": "code",
   "execution_count": 81,
   "metadata": {
    "collapsed": false
   },
   "outputs": [
    {
     "name": "stdout",
     "output_type": "stream",
     "text": [
      "Count of number of documents: 73\n",
      "Keys in one example document: [u'_id', u'Id', u'Resume']\n"
     ]
    }
   ],
   "source": [
    "print \"Count of number of documents:\", resumes.count()\n",
    "print \"Keys in one example document:\", resumes.find_one().keys()\n",
    "# resumes.find_one() # Uncomment this line to see what a full document looks like."
   ]
  },
  {
   "cell_type": "code",
   "execution_count": 82,
   "metadata": {
    "collapsed": false
   },
   "outputs": [
    {
     "name": "stdout",
     "output_type": "stream",
     "text": [
      "73\n"
     ]
    }
   ],
   "source": [
    "corpus = []\n",
    "\n",
    "for resume in resumes.find({}, {'Resume' : 1, \"_id\": 0}):\n",
    "    corpus.append(resume['Resume'])\n",
    "\n",
    "print len(corpus)"
   ]
  },
  {
   "cell_type": "code",
   "execution_count": 83,
   "metadata": {
    "collapsed": false,
    "scrolled": true
   },
   "outputs": [
    {
     "data": {
      "text/plain": [
       "u'EDUCATION The George Washington University, Elliott School of International Affairs, Washington, DC Master of Arts Candidate in Middle East Studies; GPA: 3.97         08 14  The Hebrew University of Jerusalem, Jerusalem, Israel Bachelor of Arts in Islamic and Middle Eastern Studies and International Affairs, Cum Laude     12 10  EXPERIENCE Filter Coffeehouse, Washington, DC                       10 12 present  The NGO Committee on the Status of Women, New York, NY         09 11 05 12 Intern   Coordinated preparations and execution of parallel events for the 56th annual UN Convention on the Status of Women.    Managed and developed relations with members representing approximately 80 UN accredited Non-Governmental Organizations.   Participated in day-to-day office operation including answering phones, handling email correspondences, updating social media forums, database keeping, event planning, etc.  Think Coffee, New York, NY                  01 11 05 12  Center for Strategic and International Studies, Washington, DC         09 10 12 10 Intern, Middle East Program   Performed research for scholars in program   Assisted in research and writing of a report on the future of US-Israeli relations \"Crossroads: The Future of the U.S.-Israel Strategic Partnership\"   Attended and composed reports on lectures and events concerning the work of the program   Provided administrative support including event planning, phone calls, database keeping, etc.  Israel Social Sciences Data Center, Hebrew University of Jerusalem, Israel                08 08 08 10 Online Catalogue Manager   Managed the ISDC online English catalog.   Edited and translated (Hebrew to English)statistical surveys .  SERVICE AND AFFILIATION Soroptimist International                 03 12-12 12 Youth Representative to the United Nations, New York  Israeli Ministry of foreign Affairs, Jerusalem, Israel             01 10-08 10 Honors practicum in the Department of Strategic Affairs  The Interfaith Encounter Association Founder and Coordinator, the Hebron-Jerusalem Young Adults Group         01 10-08 10  Military              09 03 12 05 Sergeant in technological unit   SKILLS   Languages:  Hebrew native; English   native; Arabic advanced proficiency. Certified by the George Washington University, in accordance with ACTFL standard; Spanish   basic; Persian   basic.   Computers:  Microsoft Office, SPSS and HTML. '"
      ]
     },
     "execution_count": 83,
     "metadata": {},
     "output_type": "execute_result"
    }
   ],
   "source": [
    "corpus[1]"
   ]
  },
  {
   "cell_type": "code",
   "execution_count": null,
   "metadata": {
    "collapsed": true
   },
   "outputs": [],
   "source": []
  }
 ],
 "metadata": {
  "kernelspec": {
   "display_name": "Python 2",
   "language": "python",
   "name": "python2"
  },
  "language_info": {
   "codemirror_mode": {
    "name": "ipython",
    "version": 2
   },
   "file_extension": ".py",
   "mimetype": "text/x-python",
   "name": "python",
   "nbconvert_exporter": "python",
   "pygments_lexer": "ipython2",
   "version": "2.7.11"
  }
 },
 "nbformat": 4,
 "nbformat_minor": 0
}
