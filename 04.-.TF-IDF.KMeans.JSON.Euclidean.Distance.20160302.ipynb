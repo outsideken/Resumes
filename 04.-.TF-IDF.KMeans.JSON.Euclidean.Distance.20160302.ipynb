{
 "cells": [
  {
   "cell_type": "code",
   "execution_count": 42,
   "metadata": {
    "collapsed": false
   },
   "outputs": [],
   "source": [
    "import datetime\n",
    "import nltk\n",
    "import pandas as pd\n",
    "import numpy as np\n",
    "import pickle\n",
    "import pymongo\n",
    "import random\n",
    "import seaborn as sns\n",
    "import string\n",
    "import lda\n",
    "import re\n",
    "import time\n",
    "\n",
    "from collections import defaultdict, Counter\n",
    "from os import path\n",
    "\n",
    "## NLP\n",
    "from nltk.corpus import treebank, stopwords\n",
    "from nltk import bigrams, trigrams\n",
    "from nltk.stem import WordNetLemmatizer\n",
    "\n",
    "from sklearn.feature_extraction.text import CountVectorizer, TfidfVectorizer\n",
    "from sklearn.decomposition import LatentDirichletAllocation\n",
    "from sklearn.cluster import KMeans, AgglomerativeClustering, DBSCAN\n",
    "from sklearn.metrics.pairwise import cosine_similarity, pairwise_distances\n",
    "from sklearn.neighbors import kneighbors_graph\n",
    "\n",
    "from textblob import TextBlob\n",
    "\n",
    "from gensim import corpora, models, similarities\n",
    "\n",
    "import lda.datasets\n",
    "\n",
    "## Database\n",
    "from pymongo import MongoClient\n",
    "\n",
    "## Visualization\n",
    "from wordcloud import WordCloud, STOPWORDS, ImageColorGenerator\n",
    "import matplotlib.pyplot as plt\n",
    "\n",
    "%matplotlib inline\n",
    "# %pylab inline\n"
   ]
  },
  {
   "cell_type": "code",
   "execution_count": 43,
   "metadata": {
    "collapsed": true
   },
   "outputs": [],
   "source": [
    "def pickleme(temp, filename):\n",
    "    \n",
    "    with open(filename + '.pkl', 'w') as picklefile:\n",
    "        pickle.dump(temp, picklefile)\n",
    "    \n",
    "    return"
   ]
  },
  {
   "cell_type": "code",
   "execution_count": 44,
   "metadata": {
    "collapsed": true
   },
   "outputs": [],
   "source": [
    "def getpickle(filename):\n",
    "\n",
    "    try:\n",
    "        with open(filename + '.pkl', 'rb') as picklefile:\n",
    "            return pickle.load(picklefile)\n",
    "    except:\n",
    "        return 'There was an error trying to read this file.  Please check the filename or path.'"
   ]
  },
  {
   "cell_type": "code",
   "execution_count": 45,
   "metadata": {
    "collapsed": true
   },
   "outputs": [],
   "source": [
    "def tokenizenstem(temp, stem = True, nouns = False):\n",
    "    \n",
    "    global stopwords\n",
    "    \n",
    "    temptokens = []\n",
    "    \n",
    "    if nouns:\n",
    "        blob = TextBlob(temp)\n",
    "        tokens = blob.noun_phrases\n",
    "    else:\n",
    "        tokens = nltk.word_tokenize(temp)\n",
    "    \n",
    "    ##  Creates instance of WordNetLemmatizer\n",
    "    wnl = WordNetLemmatizer()\n",
    "    \n",
    "    for word in tokens:\n",
    "        if word.lower() not in stopwords and word not in string.punctuation and len(word) > 2:# and re.search('[a-zA-Z]', word):\n",
    "            if stem:\n",
    "                temptokens.append(wnl.lemmatize(word.lower()))\n",
    "            else:\n",
    "                temptokens.append(word.lower())\n",
    "    \n",
    "    return temptokens"
   ]
  },
  {
   "cell_type": "code",
   "execution_count": 46,
   "metadata": {
    "collapsed": false
   },
   "outputs": [],
   "source": [
    "def cloud(tokens, maxwords):\n",
    "    \n",
    "    global STOP_WORDS, colors\n",
    "    \n",
    "    wordcloud = WordCloud(height = 500, width = 700, \n",
    "                          background_color = 'white', mode = 'RGBA', \n",
    "                          max_words = maxwords, stopwords = STOP_WORDS,\n",
    "                          margin = 10, random_state = 3).generate(tokens)\n",
    "    plt.figure()\n",
    "\n",
    "    plt.imshow(wordcloud.to_array())\n",
    "#     plt.imshow(wordcloud.recolor(color_func = grey_color_func, random_state=3))\n",
    "    plt.axis(\"off\")\n",
    "    plt.show()\n",
    "    \n",
    "    return"
   ]
  },
  {
   "cell_type": "code",
   "execution_count": 47,
   "metadata": {
    "collapsed": true
   },
   "outputs": [],
   "source": [
    "STOP_WORDS = getpickle('stopwords')\n",
    "colors = getpickle('tableaucolors')"
   ]
  },
  {
   "cell_type": "markdown",
   "metadata": {},
   "source": [
    "### Start-up mongoDB and load resume database"
   ]
  },
  {
   "cell_type": "markdown",
   "metadata": {},
   "source": [
    "Connect to the mongoDB server with mongo.\n",
    "```\n",
    "help\n",
    "show dbs\n",
    "use new_cool_db\n",
    "show dbs\n",
    "```"
   ]
  },
  {
   "cell_type": "code",
   "execution_count": 7,
   "metadata": {
    "collapsed": false
   },
   "outputs": [
    {
     "name": "stdout",
     "output_type": "stream",
     "text": [
      "Service `mongodb` already started, use `brew services restart mongodb` to restart.\r\n"
     ]
    }
   ],
   "source": [
    "! brew services start mongodb"
   ]
  },
  {
   "cell_type": "code",
   "execution_count": 8,
   "metadata": {
    "collapsed": true
   },
   "outputs": [],
   "source": [
    "# ! brew services stop mongodb"
   ]
  },
  {
   "cell_type": "code",
   "execution_count": 9,
   "metadata": {
    "collapsed": false
   },
   "outputs": [],
   "source": [
    "## Initialize MongoDB for use\n",
    "client = MongoClient()\n",
    "db = client['resume_db']\n",
    "resumes = db.resume_collection"
   ]
  },
  {
   "cell_type": "code",
   "execution_count": 48,
   "metadata": {
    "collapsed": false
   },
   "outputs": [
    {
     "name": "stdout",
     "output_type": "stream",
     "text": [
      "Count of number of documents: 75\n",
      "Keys in one example document: [u'Languages', u'Education', u'Name', u'Clearance', u'Countries', u'Skills', u'Resume', u'Polygraph', u'Experience', u'Tokens', u'Phone', u'Date', u'Military', u'_id', u'Email']\n"
     ]
    }
   ],
   "source": [
    "print \"Count of number of documents:\", resumes.count()\n",
    "print \"Keys in one example document:\", resumes.find_one().keys()\n",
    "# resumes.find_one() # Uncomment this line to see what a full document looks like."
   ]
  },
  {
   "cell_type": "code",
   "execution_count": 51,
   "metadata": {
    "collapsed": false
   },
   "outputs": [
    {
     "name": "stdout",
     "output_type": "stream",
     "text": [
      "75 0\n"
     ]
    }
   ],
   "source": [
    "corpus = []\n",
    "tokens = []\n",
    "\n",
    "for resume in resumes.find({}, {'Resume' : 1, \"_id\": 0}):\n",
    "    corpus.append(resume['Resume'])\n",
    "#     tokens.append(tokenizenstem(resume['Resume'], stem = True, nouns = False))\n",
    "\n",
    "print len(corpus), len(tokens)"
   ]
  },
  {
   "cell_type": "code",
   "execution_count": 52,
   "metadata": {
    "collapsed": false,
    "scrolled": true
   },
   "outputs": [
    {
     "data": {
      "image/png": "[encoded data removed]",
      "text/plain": [
       "<matplotlib.figure.Figure at 0x103d11990>"
      ]
     },
     "metadata": {},
     "output_type": "display_data"
    }
   ],
   "source": [
    "cloud(corpus[8], 25)"
   ]
  },
  {
   "cell_type": "markdown",
   "metadata": {},
   "source": [
    "## Counter / Word Frequency Analysis"
   ]
  },
  {
   "cell_type": "code",
   "execution_count": 53,
   "metadata": {
    "collapsed": false,
    "scrolled": false
   },
   "outputs": [
    {
     "ename": "IndexError",
     "evalue": "list index out of range",
     "output_type": "error",
     "traceback": [
      "\u001b[0;31m---------------------------------------------------------------------------\u001b[0m",
      "\u001b[0;31mIndexError\u001b[0m                                Traceback (most recent call last)",
      "\u001b[0;32m<ipython-input-53-b9f890e0bd63>\u001b[0m in \u001b[0;36m<module>\u001b[0;34m()\u001b[0m\n\u001b[0;32m----> 1\u001b[0;31m \u001b[0mcount\u001b[0m \u001b[0;34m=\u001b[0m \u001b[0mCounter\u001b[0m\u001b[0;34m(\u001b[0m\u001b[0mtokens\u001b[0m\u001b[0;34m[\u001b[0m\u001b[0;36m0\u001b[0m\u001b[0;34m]\u001b[0m\u001b[0;34m)\u001b[0m\u001b[0;34m\u001b[0m\u001b[0m\n\u001b[0m\u001b[1;32m      2\u001b[0m \u001b[0mcount\u001b[0m\u001b[0;34m.\u001b[0m\u001b[0mmost_common\u001b[0m\u001b[0;34m(\u001b[0m\u001b[0;36m10\u001b[0m\u001b[0;34m)\u001b[0m\u001b[0;34m\u001b[0m\u001b[0m\n\u001b[1;32m      3\u001b[0m \u001b[0;31m# sorted(count)\u001b[0m\u001b[0;34m\u001b[0m\u001b[0;34m\u001b[0m\u001b[0m\n",
      "\u001b[0;31mIndexError\u001b[0m: list index out of range"
     ]
    }
   ],
   "source": [
    "count = Counter(tokens[0])\n",
    "count.most_common(10)\n",
    "# sorted(count)"
   ]
  },
  {
   "cell_type": "markdown",
   "metadata": {},
   "source": [
    "### Find the Euclidean Distance between Resumes"
   ]
  },
  {
   "cell_type": "code",
   "execution_count": 54,
   "metadata": {
    "collapsed": true
   },
   "outputs": [],
   "source": [
    "vectorizer = CountVectorizer()\n",
    "\n",
    "wookie = vectorizer.fit_transform(corpus)"
   ]
  },
  {
   "cell_type": "code",
   "execution_count": 55,
   "metadata": {
    "collapsed": false
   },
   "outputs": [
    {
     "data": {
      "text/plain": [
       "array([[0, 0, 0, ..., 0, 0, 0],\n",
       "       [0, 0, 0, ..., 0, 0, 0],\n",
       "       [0, 0, 0, ..., 0, 0, 0],\n",
       "       ..., \n",
       "       [0, 0, 0, ..., 0, 0, 1],\n",
       "       [0, 1, 0, ..., 0, 0, 0],\n",
       "       [0, 2, 0, ..., 0, 0, 0]])"
      ]
     },
     "execution_count": 55,
     "metadata": {},
     "output_type": "execute_result"
    }
   ],
   "source": [
    "wookie.toarray()"
   ]
  },
  {
   "cell_type": "code",
   "execution_count": 56,
   "metadata": {
    "collapsed": false
   },
   "outputs": [],
   "source": [
    "jsondata = pairwise_distances(wookie, metric = 'euclidean')"
   ]
  },
  {
   "cell_type": "code",
   "execution_count": 57,
   "metadata": {
    "collapsed": false
   },
   "outputs": [
    {
     "data": {
      "text/plain": [
       "array([[   0.        ,   81.27115109,   79.0569415 , ...,   88.98876334,\n",
       "          87.25823743,   70.73895674],\n",
       "       [  81.27115109,    0.        ,   33.48133809, ...,  110.96846399,\n",
       "         124.06852945,   68.19824045],\n",
       "       [  79.0569415 ,   33.48133809,    0.        , ...,  106.40018797,\n",
       "         113.46365057,   67.79380503],\n",
       "       ..., \n",
       "       [  88.98876334,  110.96846399,  106.40018797, ...,    0.        ,\n",
       "          99.62429423,   95.04209594],\n",
       "       [  87.25823743,  124.06852945,  113.46365057, ...,   99.62429423,\n",
       "           0.        ,  106.83632341],\n",
       "       [  70.73895674,   68.19824045,   67.79380503, ...,   95.04209594,\n",
       "         106.83632341,    0.        ]])"
      ]
     },
     "execution_count": 57,
     "metadata": {},
     "output_type": "execute_result"
    }
   ],
   "source": [
    "jsondata"
   ]
  },
  {
   "cell_type": "code",
   "execution_count": 60,
   "metadata": {
    "collapsed": false
   },
   "outputs": [],
   "source": [
    "df = pd.DataFrame(jsondata)\n",
    "df['index'] = np.array(range(0,75))"
   ]
  },
  {
   "cell_type": "code",
   "execution_count": 95,
   "metadata": {
    "collapsed": false,
    "scrolled": false
   },
   "outputs": [
    {
     "name": "stdout",
     "output_type": "stream",
     "text": [
      "{\"source\":0,\"target\":16    16\n",
      "Name: index, dtype: int64,\"value\":1},\n",
      "{\"source\":0,\"target\":59    59\n",
      "Name: index, dtype: int64,\"value\":1},\n",
      "{\"source\":1,\"target\":55    55\n",
      "Name: index, dtype: int64,\"value\":1},\n",
      "{\"source\":1,\"target\":15    15\n",
      "Name: index, dtype: int64,\"value\":1},\n",
      "{\"source\":2,\"target\":55    55\n",
      "Name: index, dtype: int64,\"value\":1},\n",
      "{\"source\":2,\"target\":1    1\n",
      "Name: index, dtype: int64,\"value\":1},\n",
      "{\"source\":3,\"target\":11    11\n",
      "Name: index, dtype: int64,\"value\":1},\n",
      "{\"source\":3,\"target\":12    12\n",
      "Name: index, dtype: int64,\"value\":1},\n",
      "{\"source\":4,\"target\":1    1\n",
      "Name: index, dtype: int64,\"value\":1},\n",
      "{\"source\":4,\"target\":15    15\n",
      "Name: index, dtype: int64,\"value\":1},\n",
      "{\"source\":5,\"target\":55    55\n",
      "Name: index, dtype: int64,\"value\":1},\n",
      "{\"source\":5,\"target\":2    2\n",
      "Name: index, dtype: int64,\"value\":1},\n",
      "{\"source\":6,\"target\":37    37\n",
      "Name: index, dtype: int64,\"value\":1},\n",
      "{\"source\":6,\"target\":56    56\n",
      "Name: index, dtype: int64,\"value\":1},\n",
      "{\"source\":7,\"target\":55    55\n",
      "Name: index, dtype: int64,\"value\":1},\n",
      "{\"source\":7,\"target\":1    1\n",
      "Name: index, dtype: int64,\"value\":1},\n",
      "{\"source\":8,\"target\":32    32\n",
      "Name: index, dtype: int64,\"value\":1},\n",
      "{\"source\":8,\"target\":20    20\n",
      "Name: index, dtype: int64,\"value\":1},\n",
      "{\"source\":9,\"target\":29    29\n",
      "Name: index, dtype: int64,\"value\":1},\n",
      "{\"source\":9,\"target\":34    34\n",
      "Name: index, dtype: int64,\"value\":1},\n",
      "{\"source\":10,\"target\":67    67\n",
      "Name: index, dtype: int64,\"value\":1},\n",
      "{\"source\":10,\"target\":37    37\n",
      "Name: index, dtype: int64,\"value\":1},\n",
      "{\"source\":11,\"target\":15    15\n",
      "Name: index, dtype: int64,\"value\":1},\n",
      "{\"source\":11,\"target\":1    1\n",
      "Name: index, dtype: int64,\"value\":1},\n",
      "{\"source\":12,\"target\":15    15\n",
      "Name: index, dtype: int64,\"value\":1},\n",
      "{\"source\":12,\"target\":4    4\n",
      "Name: index, dtype: int64,\"value\":1},\n",
      "{\"source\":13,\"target\":15    15\n",
      "Name: index, dtype: int64,\"value\":1},\n",
      "{\"source\":13,\"target\":2    2\n",
      "Name: index, dtype: int64,\"value\":1},\n",
      "{\"source\":14,\"target\":29    29\n",
      "Name: index, dtype: int64,\"value\":1},\n",
      "{\"source\":14,\"target\":18    18\n",
      "Name: index, dtype: int64,\"value\":1},\n",
      "{\"source\":15,\"target\":1    1\n",
      "Name: index, dtype: int64,\"value\":1},\n",
      "{\"source\":15,\"target\":55    55\n",
      "Name: index, dtype: int64,\"value\":1},\n",
      "{\"source\":16,\"target\":37    37\n",
      "Name: index, dtype: int64,\"value\":1},\n",
      "{\"source\":16,\"target\":71    71\n",
      "Name: index, dtype: int64,\"value\":1},\n",
      "{\"source\":17,\"target\":11    11\n",
      "Name: index, dtype: int64,\"value\":1},\n",
      "{\"source\":17,\"target\":21    21\n",
      "Name: index, dtype: int64,\"value\":1},\n",
      "{\"source\":18,\"target\":17    17\n",
      "Name: index, dtype: int64,\"value\":1},\n",
      "{\"source\":18,\"target\":13    13\n",
      "Name: index, dtype: int64,\"value\":1},\n",
      "{\"source\":19,\"target\":47    47\n",
      "Name: index, dtype: int64,\"value\":1},\n",
      "{\"source\":19,\"target\":40    40\n",
      "Name: index, dtype: int64,\"value\":1},\n",
      "{\"source\":20,\"target\":32    32\n",
      "Name: index, dtype: int64,\"value\":1},\n",
      "{\"source\":20,\"target\":8    8\n",
      "Name: index, dtype: int64,\"value\":1},\n",
      "{\"source\":21,\"target\":11    11\n",
      "Name: index, dtype: int64,\"value\":1},\n",
      "{\"source\":21,\"target\":13    13\n",
      "Name: index, dtype: int64,\"value\":1},\n",
      "{\"source\":22,\"target\":37    37\n",
      "Name: index, dtype: int64,\"value\":1},\n",
      "{\"source\":22,\"target\":6    6\n",
      "Name: index, dtype: int64,\"value\":1},\n",
      "{\"source\":23,\"target\":37    37\n",
      "Name: index, dtype: int64,\"value\":1},\n",
      "{\"source\":23,\"target\":71    71\n",
      "Name: index, dtype: int64,\"value\":1},\n",
      "{\"source\":24,\"target\":31    31\n",
      "Name: index, dtype: int64,\"value\":1},\n",
      "{\"source\":24,\"target\":15    15\n",
      "Name: index, dtype: int64,\"value\":1},\n",
      "{\"source\":25,\"target\":28    28\n",
      "Name: index, dtype: int64,\"value\":1},\n",
      "{\"source\":25,\"target\":57    57\n",
      "Name: index, dtype: int64,\"value\":1},\n",
      "{\"source\":26,\"target\":11    11\n",
      "Name: index, dtype: int64,\"value\":1},\n",
      "{\"source\":26,\"target\":17    17\n",
      "Name: index, dtype: int64,\"value\":1},\n",
      "{\"source\":27,\"target\":60    60\n",
      "Name: index, dtype: int64,\"value\":1},\n",
      "{\"source\":27,\"target\":47    47\n",
      "Name: index, dtype: int64,\"value\":1},\n",
      "{\"source\":28,\"target\":29    29\n",
      "Name: index, dtype: int64,\"value\":1},\n",
      "{\"source\":28,\"target\":57    57\n",
      "Name: index, dtype: int64,\"value\":1},\n",
      "{\"source\":29,\"target\":37    37\n",
      "Name: index, dtype: int64,\"value\":1},\n",
      "{\"source\":29,\"target\":34    34\n",
      "Name: index, dtype: int64,\"value\":1},\n",
      "{\"source\":30,\"target\":19    19\n",
      "Name: index, dtype: int64,\"value\":1},\n",
      "{\"source\":30,\"target\":51    51\n",
      "Name: index, dtype: int64,\"value\":1},\n",
      "{\"source\":31,\"target\":24    24\n",
      "Name: index, dtype: int64,\"value\":1},\n",
      "{\"source\":31,\"target\":11    11\n",
      "Name: index, dtype: int64,\"value\":1},\n",
      "{\"source\":32,\"target\":32    32\n",
      "Name: index, dtype: int64,\"value\":1},\n",
      "{\"source\":32,\"target\":20    20\n",
      "Name: index, dtype: int64,\"value\":1},\n",
      "{\"source\":33,\"target\":29    29\n",
      "Name: index, dtype: int64,\"value\":1},\n",
      "{\"source\":33,\"target\":16    16\n",
      "Name: index, dtype: int64,\"value\":1},\n",
      "{\"source\":34,\"target\":17    17\n",
      "Name: index, dtype: int64,\"value\":1},\n",
      "{\"source\":34,\"target\":37    37\n",
      "Name: index, dtype: int64,\"value\":1},\n",
      "{\"source\":35,\"target\":48    48\n",
      "Name: index, dtype: int64,\"value\":1},\n",
      "{\"source\":35,\"target\":49    49\n",
      "Name: index, dtype: int64,\"value\":1},\n",
      "{\"source\":36,\"target\":16    16\n",
      "Name: index, dtype: int64,\"value\":1},\n",
      "{\"source\":36,\"target\":34    34\n",
      "Name: index, dtype: int64,\"value\":1},\n",
      "{\"source\":37,\"target\":17    17\n",
      "Name: index, dtype: int64,\"value\":1},\n",
      "{\"source\":37,\"target\":34    34\n",
      "Name: index, dtype: int64,\"value\":1},\n",
      "{\"source\":38,\"target\":36    36\n",
      "Name: index, dtype: int64,\"value\":1},\n",
      "{\"source\":38,\"target\":0    0\n",
      "Name: index, dtype: int64,\"value\":1},\n",
      "{\"source\":39,\"target\":21    21\n",
      "Name: index, dtype: int64,\"value\":1},\n",
      "{\"source\":39,\"target\":18    18\n",
      "Name: index, dtype: int64,\"value\":1},\n",
      "{\"source\":40,\"target\":47    47\n",
      "Name: index, dtype: int64,\"value\":1},\n",
      "{\"source\":40,\"target\":32    32\n",
      "Name: index, dtype: int64,\"value\":1},\n",
      "{\"source\":41,\"target\":19    19\n",
      "Name: index, dtype: int64,\"value\":1},\n",
      "{\"source\":41,\"target\":40    40\n",
      "Name: index, dtype: int64,\"value\":1},\n",
      "{\"source\":42,\"target\":68    68\n",
      "Name: index, dtype: int64,\"value\":1},\n",
      "{\"source\":42,\"target\":44    44\n",
      "Name: index, dtype: int64,\"value\":1},\n",
      "{\"source\":43,\"target\":68    68\n",
      "Name: index, dtype: int64,\"value\":1},\n",
      "{\"source\":43,\"target\":19    19\n",
      "Name: index, dtype: int64,\"value\":1},\n",
      "{\"source\":44,\"target\":42    42\n",
      "Name: index, dtype: int64,\"value\":1},\n",
      "{\"source\":44,\"target\":45    45\n",
      "Name: index, dtype: int64,\"value\":1},\n",
      "{\"source\":45,\"target\":44    44\n",
      "Name: index, dtype: int64,\"value\":1},\n",
      "{\"source\":45,\"target\":42    42\n",
      "Name: index, dtype: int64,\"value\":1},\n",
      "{\"source\":46,\"target\":10    10\n",
      "Name: index, dtype: int64,\"value\":1},\n",
      "{\"source\":46,\"target\":37    37\n",
      "Name: index, dtype: int64,\"value\":1},\n",
      "{\"source\":47,\"target\":27    27\n",
      "Name: index, dtype: int64,\"value\":1},\n",
      "{\"source\":47,\"target\":73    73\n",
      "Name: index, dtype: int64,\"value\":1},\n",
      "{\"source\":48,\"target\":35    35\n",
      "Name: index, dtype: int64,\"value\":1},\n",
      "{\"source\":48,\"target\":52    52\n",
      "Name: index, dtype: int64,\"value\":1},\n",
      "{\"source\":49,\"target\":20    20\n",
      "Name: index, dtype: int64,\"value\":1},\n",
      "{\"source\":49,\"target\":8    8\n",
      "Name: index, dtype: int64,\"value\":1},\n",
      "{\"source\":50,\"target\":20    20\n",
      "Name: index, dtype: int64,\"value\":1},\n",
      "{\"source\":50,\"target\":32    32\n",
      "Name: index, dtype: int64,\"value\":1},\n",
      "{\"source\":51,\"target\":49    49\n",
      "Name: index, dtype: int64,\"value\":1},\n",
      "{\"source\":51,\"target\":40    40\n",
      "Name: index, dtype: int64,\"value\":1},\n",
      "{\"source\":52,\"target\":40    40\n",
      "Name: index, dtype: int64,\"value\":1},\n",
      "{\"source\":52,\"target\":46    46\n",
      "Name: index, dtype: int64,\"value\":1},\n",
      "{\"source\":53,\"target\":35    35\n",
      "Name: index, dtype: int64,\"value\":1},\n",
      "{\"source\":53,\"target\":20    20\n",
      "Name: index, dtype: int64,\"value\":1},\n",
      "{\"source\":54,\"target\":34    34\n",
      "Name: index, dtype: int64,\"value\":1},\n",
      "{\"source\":54,\"target\":67    67\n",
      "Name: index, dtype: int64,\"value\":1},\n",
      "{\"source\":55,\"target\":1    1\n",
      "Name: index, dtype: int64,\"value\":1},\n",
      "{\"source\":55,\"target\":15    15\n",
      "Name: index, dtype: int64,\"value\":1},\n",
      "{\"source\":56,\"target\":67    67\n",
      "Name: index, dtype: int64,\"value\":1},\n",
      "{\"source\":56,\"target\":37    37\n",
      "Name: index, dtype: int64,\"value\":1},\n",
      "{\"source\":57,\"target\":39    39\n",
      "Name: index, dtype: int64,\"value\":1},\n",
      "{\"source\":57,\"target\":16    16\n",
      "Name: index, dtype: int64,\"value\":1},\n",
      "{\"source\":58,\"target\":55    55\n",
      "Name: index, dtype: int64,\"value\":1},\n",
      "{\"source\":58,\"target\":15    15\n",
      "Name: index, dtype: int64,\"value\":1},\n",
      "{\"source\":59,\"target\":34    34\n",
      "Name: index, dtype: int64,\"value\":1},\n",
      "{\"source\":59,\"target\":37    37\n",
      "Name: index, dtype: int64,\"value\":1},\n",
      "{\"source\":60,\"target\":61    61\n",
      "Name: index, dtype: int64,\"value\":1},\n",
      "{\"source\":60,\"target\":29    29\n",
      "Name: index, dtype: int64,\"value\":1},\n",
      "{\"source\":61,\"target\":34    34\n",
      "Name: index, dtype: int64,\"value\":1},\n",
      "{\"source\":61,\"target\":29    29\n",
      "Name: index, dtype: int64,\"value\":1},\n",
      "{\"source\":62,\"target\":50    50\n",
      "Name: index, dtype: int64,\"value\":1},\n",
      "{\"source\":62,\"target\":20    20\n",
      "Name: index, dtype: int64,\"value\":1},\n",
      "{\"source\":63,\"target\":11    11\n",
      "Name: index, dtype: int64,\"value\":1},\n",
      "{\"source\":63,\"target\":12    12\n",
      "Name: index, dtype: int64,\"value\":1},\n",
      "{\"source\":64,\"target\":48    48\n",
      "Name: index, dtype: int64,\"value\":1},\n",
      "{\"source\":64,\"target\":67    67\n",
      "Name: index, dtype: int64,\"value\":1},\n",
      "{\"source\":65,\"target\":16    16\n",
      "Name: index, dtype: int64,\"value\":1},\n",
      "{\"source\":65,\"target\":59    59\n",
      "Name: index, dtype: int64,\"value\":1},\n",
      "{\"source\":66,\"target\":60    60\n",
      "Name: index, dtype: int64,\"value\":1},\n",
      "{\"source\":66,\"target\":57    57\n",
      "Name: index, dtype: int64,\"value\":1},\n",
      "{\"source\":67,\"target\":56    56\n",
      "Name: index, dtype: int64,\"value\":1},\n",
      "{\"source\":67,\"target\":29    29\n",
      "Name: index, dtype: int64,\"value\":1},\n",
      "{\"source\":68,\"target\":42    42\n",
      "Name: index, dtype: int64,\"value\":1},\n",
      "{\"source\":68,\"target\":35    35\n",
      "Name: index, dtype: int64,\"value\":1},\n",
      "{\"source\":69,\"target\":21    21\n",
      "Name: index, dtype: int64,\"value\":1},\n",
      "{\"source\":69,\"target\":11    11\n",
      "Name: index, dtype: int64,\"value\":1},\n",
      "{\"source\":70,\"target\":67    67\n",
      "Name: index, dtype: int64,\"value\":1},\n",
      "{\"source\":70,\"target\":54    54\n",
      "Name: index, dtype: int64,\"value\":1},\n",
      "{\"source\":71,\"target\":37    37\n",
      "Name: index, dtype: int64,\"value\":1},\n",
      "{\"source\":71,\"target\":69    69\n",
      "Name: index, dtype: int64,\"value\":1},\n",
      "{\"source\":72,\"target\":57    57\n",
      "Name: index, dtype: int64,\"value\":1},\n",
      "{\"source\":72,\"target\":60    60\n",
      "Name: index, dtype: int64,\"value\":1},\n",
      "{\"source\":73,\"target\":47    47\n",
      "Name: index, dtype: int64,\"value\":1},\n",
      "{\"source\":73,\"target\":38    38\n",
      "Name: index, dtype: int64,\"value\":1},\n",
      "{\"source\":74,\"target\":17    17\n",
      "Name: index, dtype: int64,\"value\":1},\n",
      "{\"source\":74,\"target\":39    39\n",
      "Name: index, dtype: int64,\"value\":1},\n"
     ]
    }
   ],
   "source": [
    "for i in range(75):\n",
    "    temp = df[['index', i]].sort_values(i)[1:2]\n",
    "    tempindex = str(temp['index'])\n",
    "    print '{\\\"source\\\":' + str(i + 1) + ',\\\"target\\\":' + tempindex + ',\\\"value\\\":' + str(1) + '},'\n",
    "    temp = df[['index', i]].sort_values(i)[2:3]\n",
    "    tempindex = str(temp['index'])\n",
    "    print '{\\\"source\\\":' + str(i + 1) + ',\\\"target\\\":' + tempindex + ',\\\"value\\\":' + str(1) + '},'\n",
    "    "
   ]
  },
  {
   "cell_type": "code",
   "execution_count": 35,
   "metadata": {
    "collapsed": false
   },
   "outputs": [],
   "source": [
    "# for i in range(75):\n",
    "#     for j in df.iterrows():\n",
    "#         print i, j\n",
    "        \n",
    "    \n",
    "#     tempdf = sorted(df[i])[:6]\n",
    "#     for j in range(6):\n",
    "#         if tempdf[j] == 0:\n",
    "#             continue\n",
    "#         else:\n",
    "# #             index = df[df[tempdf[j]] == True].index\n",
    "#             print i, j, int(tempdf[j]//10)"
   ]
  },
  {
   "cell_type": "code",
   "execution_count": 1333,
   "metadata": {
    "collapsed": false,
    "scrolled": false
   },
   "outputs": [
    {
     "name": "stdout",
     "output_type": "stream",
     "text": [
      "[0.0, 57.30619512757761, 58.677082408722406, 58.80476171195663, 58.838762733422598, 59.657354953098618]\n"
     ]
    }
   ],
   "source": [
    "print sorted(df[i])[:6]"
   ]
  },
  {
   "cell_type": "code",
   "execution_count": 1325,
   "metadata": {
    "collapsed": false
   },
   "outputs": [
    {
     "ename": "TypeError",
     "evalue": "sort_values() takes at least 2 arguments (3 given)",
     "output_type": "error",
     "traceback": [
      "\u001b[0;31m---------------------------------------------------------------------------\u001b[0m",
      "\u001b[0;31mTypeError\u001b[0m                                 Traceback (most recent call last)",
      "\u001b[0;32m<ipython-input-1325-7fc0ef6139cc>\u001b[0m in \u001b[0;36m<module>\u001b[0;34m()\u001b[0m\n\u001b[0;32m----> 1\u001b[0;31m \u001b[0mtempdf\u001b[0m\u001b[0;34m.\u001b[0m\u001b[0msort_values\u001b[0m\u001b[0;34m(\u001b[0m\u001b[0maxis\u001b[0m\u001b[0;34m=\u001b[0m\u001b[0;36m1\u001b[0m\u001b[0;34m,\u001b[0m \u001b[0mascending\u001b[0m\u001b[0;34m=\u001b[0m\u001b[0mTrue\u001b[0m\u001b[0;34m)\u001b[0m\u001b[0;34m\u001b[0m\u001b[0m\n\u001b[0m",
      "\u001b[0;31mTypeError\u001b[0m: sort_values() takes at least 2 arguments (3 given)"
     ]
    }
   ],
   "source": [
    "tempdf.sort_values(axis=1, ascending=True)"
   ]
  },
  {
   "cell_type": "code",
   "execution_count": 1276,
   "metadata": {
    "collapsed": false
   },
   "outputs": [],
   "source": [
    "def writejson(temp):\n",
    "    \n",
    "    f = open('resumes.json', 'w')\n",
    "    \n",
    "    f.write('{\\n  \"nodes\":[\\n')\n",
    "    \n",
    "    for i in range(75):\n",
    "        filename = '0' * (3 - len(str(i + 1))) + str(i + 1)\n",
    "        f.write('    {\\\"name\\\":\\\"Resume ' + filename + '\",\\\"group\\\":' + str(1) +'},\\n')\n",
    "    \n",
    "    f.write('  ],\\n  \\\"links\\\":[\\n')\n",
    "    \n",
    "    for i,resume in enumerate(jsondata.tolist()):\n",
    "        for j,distance in enumerate(resume):\n",
    "            filename = '0' * (3 - len(str(i + 1))) + str(i + 1)\n",
    "            if distance != 0 and distance < 50 :\n",
    "#                 f.write(str(i + 1)+ ', ' + str(j + 1) + ', ' + str(distance) + '\\n')\n",
    "#                 f.write('{\\\"source\\\":' + str(i + 1) + ',\\\"target\\\":' + str(j + 1) + ',\\\"value\\\":' + str((distance)) + '},\\n')\n",
    "                f.write('    {\\\"source\\\":' + str(i + 1) + ',\\\"target\\\":' + str(j + 1) + ',\\\"value\\\":' + str(1) + '},\\n')\n",
    "    \n",
    "    f.write('  ]\\n}')\n",
    "    f.close()\n",
    "    "
   ]
  },
  {
   "cell_type": "code",
   "execution_count": 1277,
   "metadata": {
    "collapsed": true
   },
   "outputs": [],
   "source": [
    "writejson(jsondata.tolist())"
   ]
  },
  {
   "cell_type": "code",
   "execution_count": 104,
   "metadata": {
    "collapsed": false,
    "scrolled": false
   },
   "outputs": [
    {
     "name": "stdout",
     "output_type": "stream",
     "text": [
      "{\"source\":2,\"target\":46,\"value\":433.743011471},\n",
      "{\"source\":3,\"target\":46,\"value\":428.800652985},\n",
      "{\"source\":5,\"target\":46,\"value\":426.703644231},\n",
      "{\"source\":8,\"target\":46,\"value\":434.125557875},\n",
      "{\"source\":46,\"target\":2,\"value\":433.743011471},\n",
      "{\"source\":46,\"target\":3,\"value\":428.800652985},\n",
      "{\"source\":46,\"target\":5,\"value\":426.703644231},\n",
      "{\"source\":46,\"target\":8,\"value\":434.125557875},\n",
      "{\"source\":46,\"target\":56,\"value\":433.008083065},\n",
      "{\"source\":56,\"target\":46,\"value\":433.008083065},\n"
     ]
    }
   ],
   "source": [
    "end = 75\n",
    "\n",
    "for i,resume in enumerate(jsondata.tolist()):\n",
    "    for j,distance in enumerate(resume):\n",
    "        filename = '0' * (3 - len(str(i + 1))) + str(i + 1)\n",
    "#         print '{\\\"name\\\":\\\"Resume ' + filename + '\",\\\"group\\\":' + str(round(j,4)) +'},'\n",
    "        \n",
    "        if distance != 0 and distance > 425:\n",
    "#         if distance > 100:\n",
    "            print '{\\\"source\\\":' + str(i + 1) + ',\\\"target\\\":' + str(j + 1) + ',\\\"value\\\":' + str((distance)) + '},'"
   ]
  },
  {
   "cell_type": "markdown",
   "metadata": {
    "collapsed": false,
    "scrolled": true
   },
   "source": [
    "## sklearn TdifVectorizer() and KMeans()\n",
    "\n",
    "* [Document Clustering with Python](http://brandonrose.org/clustering)"
   ]
  },
  {
   "cell_type": "code",
   "execution_count": 105,
   "metadata": {
    "collapsed": true
   },
   "outputs": [],
   "source": [
    "nouns = True\n",
    "ngrams = 3"
   ]
  },
  {
   "cell_type": "code",
   "execution_count": 106,
   "metadata": {
    "collapsed": false
   },
   "outputs": [
    {
     "ename": "TypeError",
     "evalue": "argument of type 'LazyCorpusLoader' is not iterable",
     "output_type": "error",
     "traceback": [
      "\u001b[0;31m---------------------------------------------------------------------------\u001b[0m",
      "\u001b[0;31mTypeError\u001b[0m                                 Traceback (most recent call last)",
      "\u001b[0;32m<ipython-input-106-0ccd5471e7f8>\u001b[0m in \u001b[0;36m<module>\u001b[0;34m()\u001b[0m\n\u001b[1;32m      3\u001b[0m \u001b[0;34m\u001b[0m\u001b[0m\n\u001b[1;32m      4\u001b[0m \u001b[0;32mfor\u001b[0m \u001b[0mtempresume\u001b[0m \u001b[0;32min\u001b[0m \u001b[0mcorpus\u001b[0m\u001b[0;34m:\u001b[0m\u001b[0;34m\u001b[0m\u001b[0m\n\u001b[0;32m----> 5\u001b[0;31m     \u001b[0mallwords_stemmed\u001b[0m \u001b[0;34m=\u001b[0m \u001b[0mtokenizenstem\u001b[0m\u001b[0;34m(\u001b[0m\u001b[0mtempresume\u001b[0m\u001b[0;34m,\u001b[0m \u001b[0mTrue\u001b[0m\u001b[0;34m,\u001b[0m \u001b[0mnouns\u001b[0m\u001b[0;34m)\u001b[0m\u001b[0;34m\u001b[0m\u001b[0m\n\u001b[0m\u001b[1;32m      6\u001b[0m     \u001b[0mtotalvocab_stemmed\u001b[0m\u001b[0;34m.\u001b[0m\u001b[0mextend\u001b[0m\u001b[0;34m(\u001b[0m\u001b[0mallwords_stemmed\u001b[0m\u001b[0;34m)\u001b[0m\u001b[0;34m\u001b[0m\u001b[0m\n\u001b[1;32m      7\u001b[0m \u001b[0;34m\u001b[0m\u001b[0m\n",
      "\u001b[0;32m<ipython-input-45-c8d72cebf6fb>\u001b[0m in \u001b[0;36mtokenizenstem\u001b[0;34m(temp, stem, nouns)\u001b[0m\n\u001b[1;32m     15\u001b[0m \u001b[0;34m\u001b[0m\u001b[0m\n\u001b[1;32m     16\u001b[0m     \u001b[0;32mfor\u001b[0m \u001b[0mword\u001b[0m \u001b[0;32min\u001b[0m \u001b[0mtokens\u001b[0m\u001b[0;34m:\u001b[0m\u001b[0;34m\u001b[0m\u001b[0m\n\u001b[0;32m---> 17\u001b[0;31m         \u001b[0;32mif\u001b[0m \u001b[0mword\u001b[0m\u001b[0;34m.\u001b[0m\u001b[0mlower\u001b[0m\u001b[0;34m(\u001b[0m\u001b[0;34m)\u001b[0m \u001b[0;32mnot\u001b[0m \u001b[0;32min\u001b[0m \u001b[0mstopwords\u001b[0m \u001b[0;32mand\u001b[0m \u001b[0mword\u001b[0m \u001b[0;32mnot\u001b[0m \u001b[0;32min\u001b[0m \u001b[0mstring\u001b[0m\u001b[0;34m.\u001b[0m\u001b[0mpunctuation\u001b[0m \u001b[0;32mand\u001b[0m \u001b[0mlen\u001b[0m\u001b[0;34m(\u001b[0m\u001b[0mword\u001b[0m\u001b[0;34m)\u001b[0m \u001b[0;34m>\u001b[0m \u001b[0;36m2\u001b[0m\u001b[0;34m:\u001b[0m\u001b[0;31m# and re.search('[a-zA-Z]', word):\u001b[0m\u001b[0;34m\u001b[0m\u001b[0m\n\u001b[0m\u001b[1;32m     18\u001b[0m             \u001b[0;32mif\u001b[0m \u001b[0mstem\u001b[0m\u001b[0;34m:\u001b[0m\u001b[0;34m\u001b[0m\u001b[0m\n\u001b[1;32m     19\u001b[0m                 \u001b[0mtemptokens\u001b[0m\u001b[0;34m.\u001b[0m\u001b[0mappend\u001b[0m\u001b[0;34m(\u001b[0m\u001b[0mwnl\u001b[0m\u001b[0;34m.\u001b[0m\u001b[0mlemmatize\u001b[0m\u001b[0;34m(\u001b[0m\u001b[0mword\u001b[0m\u001b[0;34m.\u001b[0m\u001b[0mlower\u001b[0m\u001b[0;34m(\u001b[0m\u001b[0;34m)\u001b[0m\u001b[0;34m)\u001b[0m\u001b[0;34m)\u001b[0m\u001b[0;34m\u001b[0m\u001b[0m\n",
      "\u001b[0;31mTypeError\u001b[0m: argument of type 'LazyCorpusLoader' is not iterable"
     ]
    }
   ],
   "source": [
    "totalvocab_stemmed = []\n",
    "totalvocab_tokenized = []\n",
    "\n",
    "for tempresume in corpus:\n",
    "    allwords_stemmed = tokenizenstem(tempresume, True, nouns)\n",
    "    totalvocab_stemmed.extend(allwords_stemmed)\n",
    "    \n",
    "    allwords_tokenized = tokenizenstem(tempresume, False, nouns)\n",
    "    totalvocab_tokenized.extend(allwords_tokenized)"
   ]
  },
  {
   "cell_type": "code",
   "execution_count": null,
   "metadata": {
    "collapsed": false
   },
   "outputs": [],
   "source": [
    "vocab_frame = pd.DataFrame({'words': totalvocab_tokenized}, index = totalvocab_stemmed)\n",
    "\n",
    "print 'There are ' + str(vocab_frame.shape[0]) + ' items in vocab_frame.'"
   ]
  },
  {
   "cell_type": "code",
   "execution_count": null,
   "metadata": {
    "collapsed": false
   },
   "outputs": [],
   "source": [
    "tfidf = TfidfVectorizer(ngram_range=(1, ngrams), dtype = 'int', stop_words = 'english', \n",
    "                        min_df = 0.55, max_df = 0.9,\n",
    "                        tokenizer = tokenizenstem)\n",
    "\n",
    "tfidfmatrix = tfidf.fit_transform(corpus)\n",
    "\n",
    "tfidf"
   ]
  },
  {
   "cell_type": "code",
   "execution_count": 1139,
   "metadata": {
    "collapsed": false,
    "scrolled": false
   },
   "outputs": [
    {
     "data": {
      "text/plain": [
       "(75, 78)"
      ]
     },
     "execution_count": 1139,
     "metadata": {},
     "output_type": "execute_result"
    }
   ],
   "source": [
    "tfidfmatrix.shape"
   ]
  },
  {
   "cell_type": "code",
   "execution_count": 1140,
   "metadata": {
    "collapsed": false
   },
   "outputs": [],
   "source": [
    "terms = tfidf.get_feature_names()\n",
    "\n",
    "dist = 1 - cosine_similarity(tfidfmatrix)"
   ]
  },
  {
   "cell_type": "markdown",
   "metadata": {},
   "source": [
    "## sklearn KMeans()"
   ]
  },
  {
   "cell_type": "code",
   "execution_count": 1159,
   "metadata": {
    "collapsed": false
   },
   "outputs": [],
   "source": [
    "num_clusters = 5\n",
    "\n",
    "km = KMeans(n_clusters = num_clusters)\n",
    "km.fit(tfidfmatrix)\n",
    "\n",
    "clusters = km.labels_.tolist()"
   ]
  },
  {
   "cell_type": "code",
   "execution_count": 1160,
   "metadata": {
    "collapsed": true
   },
   "outputs": [],
   "source": [
    "cluster = defaultdict(int)\n",
    "\n",
    "for i, node in enumerate(clusters):\n",
    "    cluster[node] += 1"
   ]
  },
  {
   "cell_type": "code",
   "execution_count": 1161,
   "metadata": {
    "collapsed": false
   },
   "outputs": [],
   "source": [
    "resnames = getpickle('resumenames')\n",
    "\n",
    "# print len(clusters), len(resnames)"
   ]
  },
  {
   "cell_type": "code",
   "execution_count": 1162,
   "metadata": {
    "collapsed": false
   },
   "outputs": [],
   "source": [
    "resumes = {'Resume' : resnames , 'cluster': clusters}\n",
    "\n",
    "frame = pd.DataFrame({'Resume' : resnames, \n",
    "                      'Cluster': clusters})\n",
    "\n",
    "clusterres = defaultdict(list)\n",
    "\n",
    "for i in range(75):\n",
    "    clusterres[clusters[i]].append(resnames[i])"
   ]
  },
  {
   "cell_type": "code",
   "execution_count": 1163,
   "metadata": {
    "collapsed": false
   },
   "outputs": [
    {
     "data": {
      "text/plain": [
       "1    19\n",
       "3    17\n",
       "2    15\n",
       "4    13\n",
       "0    11\n",
       "Name: Cluster, dtype: int64"
      ]
     },
     "execution_count": 1163,
     "metadata": {},
     "output_type": "execute_result"
    }
   ],
   "source": [
    "frame['Cluster'].value_counts() #number of films per cluster (clusters from 0 to 4)"
   ]
  },
  {
   "cell_type": "code",
   "execution_count": null,
   "metadata": {
    "collapsed": true
   },
   "outputs": [],
   "source": []
  },
  {
   "cell_type": "code",
   "execution_count": 1164,
   "metadata": {
    "collapsed": false
   },
   "outputs": [
    {
     "name": "stdout",
     "output_type": "stream",
     "text": [
      "Top terms per cluster:\n",
      "\n",
      "Cluster 0 \n",
      "\tSample words:\tnan, universitys, studies, nan, nan, nan, \n",
      "\tResumes:\t['Resume 002', 'Resume 003', 'Resume 005', 'Resume 012', 'Resume 014', 'Resume 015', 'Resume 018', 'Resume 019', 'Resume 026', 'Resume 027', 'Resume 029']\n",
      "Cluster 1 \n",
      "\tSample words:\tanalyst, operations, support, nan, intelligence, nan, \n",
      "\tResumes:\t['Resume 001', 'Resume 007', 'Resume 011', 'Resume 017', 'Resume 021', 'Resume 024', 'Resume 025', 'Resume 032', 'Resume 036', 'Resume 037', 'Resume 038', 'Resume 047', 'Resume 050', 'Resume 052', 'Resume 056', 'Resume 063', 'Resume 065', 'Resume 070', 'Resume 072']\n",
      "Cluster 2 \n",
      "\tSample words:\toperations, support, commands, armys, training, officers, \n",
      "\tResumes:\t['Resume 009', 'Resume 020', 'Resume 023', 'Resume 033', 'Resume 041', 'Resume 042', 'Resume 043', 'Resume 045', 'Resume 046', 'Resume 049', 'Resume 051', 'Resume 055', 'Resume 061', 'Resume 066', 'Resume 071']\n",
      "Cluster 3 \n",
      "\tSample words:\tarmys, nan, defenses, officers, program, policy, \n",
      "\tResumes:\t['Resume 006', 'Resume 008', 'Resume 022', 'Resume 028', 'Resume 031', 'Resume 040', 'Resume 044', 'Resume 048', 'Resume 053', 'Resume 054', 'Resume 059', 'Resume 060', 'Resume 067', 'Resume 069', 'Resume 073', 'Resume 074', 'Resume 075']\n",
      "Cluster 4 \n",
      "\tSample words:\ttraining, operations, nan, defenses, u.s., officers, \n",
      "\tResumes:\t['Resume 004', 'Resume 010', 'Resume 013', 'Resume 016', 'Resume 030', 'Resume 034', 'Resume 035', 'Resume 039', 'Resume 057', 'Resume 058', 'Resume 062', 'Resume 064', 'Resume 068']\n",
      "\n",
      "\n"
     ]
    }
   ],
   "source": [
    "print 'Top terms per cluster:\\n'\n",
    "\n",
    "#sort cluster centers by proximity to centroid\n",
    "order_centroids = km.cluster_centers_.argsort()[:, ::-1] \n",
    "\n",
    "for i in range(num_clusters):\n",
    "    \n",
    "    print 'Cluster %d' % i, '\\n\\tSample words:\\t' ,\n",
    "    \n",
    "    for ind in order_centroids[i, :6]: #replace 6 with n words per cluster\n",
    "#         print '%s' % vocab_frame.ix[terms[ind].split(' ')].values.tolist()[0][0].encode('utf-8', 'ignore') + ',',\n",
    "        print '%s' % vocab_frame.ix[terms[ind].split(' ')].values.tolist()[0][0] + ',',\n",
    "\n",
    "    print '\\n\\tResumes:\\t',clusterres[i]\n",
    "    \n",
    "print '\\n' #add whitespace"
   ]
  },
  {
   "cell_type": "code",
   "execution_count": 1165,
   "metadata": {
    "collapsed": false
   },
   "outputs": [],
   "source": [
    "stoplist = ['jan', 'feb', 'mar', 'apr', 'may', 'jun', 'jul', 'aug', 'sep', 'oct', 'nov', 'dec',\n",
    "           'january', 'february', 'march', 'april', 'june', 'july', 'august', 'september', 'october',\n",
    "           'november', 'december',\n",
    "           'az', 'ca', 'ct', 'va', 'dc', 'fl', 'hi', 'wa', 'tx', 'md', 'ms', 'nc', 'nj', 'ny', 'york', 'pa',\n",
    "           'florida', 'california', 'missouri', 'arizona', 'washington dc', 'd.c.', 'washington', 'virginia',\n",
    "           'arlington', 'alexandria', 'san diego', 'mclean',\n",
    "           'highly', 'hours', 'document', 'participated', 'served', 'title', 'description', 'ability',\n",
    "           'software', 'intel', 'afb', 'ft.', 'fort', 'honors', 'medal', 'employer', 'authored', 'offices']\n",
    "\n",
    "templist = [list(STOP_WORDS) + stoplist]\n",
    "\n",
    "stopwords = [item for sublist in templist for item in sublist]"
   ]
  },
  {
   "cell_type": "markdown",
   "metadata": {},
   "source": [
    "### sklearn.manifold.MDS\n",
    "\n",
    "* [sklearn.manifold.MDS](http://scikit-learn.org/stable/modules/generated/sklearn.manifold.MDS.html)"
   ]
  },
  {
   "cell_type": "code",
   "execution_count": 1166,
   "metadata": {
    "collapsed": false
   },
   "outputs": [],
   "source": [
    "import os  # for os.path.basename\n",
    "\n",
    "import matplotlib.pyplot as plt\n",
    "import matplotlib as mpl\n",
    "\n",
    "from sklearn.manifold import MDS\n",
    "\n",
    "# MDS(n_components=2, metric=True, n_init=4, max_iter=300, verbose=0, eps=0.001, \n",
    "#     n_jobs=1, random_state=None, dissimilarity='euclidean')\n",
    "\n",
    "# convert two components as we're plotting points in a two-dimensional plane\n",
    "# \"precomputed\" because we provide a distance matrix\n",
    "# we will also specify `random_state` so the plot is reproducible.\n",
    "mds = MDS(n_components = 2, dissimilarity = 'euclidean', random_state=0)\n",
    "\n",
    "pos = mds.fit_transform(dist)  # shape (n_components, n_samples)\n",
    "\n",
    "xs, ys = pos[:, 0], pos[:, 1]"
   ]
  },
  {
   "cell_type": "code",
   "execution_count": 1167,
   "metadata": {
    "collapsed": false
   },
   "outputs": [],
   "source": [
    "#set up colors per clusters using a dict\n",
    "# cluster_colors = {0: '#1b9e77', 1: '#d95f02', 2: '#7570b3', 3: '#e7298a', 4: '#66a61e'}\n",
    "cluster_colors = {0: colors[0], \n",
    "                  1: colors[1], \n",
    "                  2: colors[2], \n",
    "                  3: colors[3], \n",
    "                  4: colors[4],\n",
    "                  5: colors[5],\n",
    "                  6: colors[6],\n",
    "                  7: colors[7]}\n",
    "\n",
    "#set up cluster names using a dict\n",
    "cluster_names = {0: 'Cluster 0', \n",
    "                 1: 'Cluster 1', \n",
    "                 2: 'Cluster 2', \n",
    "                 3: 'Cluster 3',\n",
    "                 4: 'Cluster 4',\n",
    "                 5: 'Cluster 5',\n",
    "                 6: 'Cluster 6',\n",
    "                 7: 'Cluster 7'}"
   ]
  },
  {
   "cell_type": "code",
   "execution_count": 1168,
   "metadata": {
    "collapsed": false
   },
   "outputs": [
    {
     "data": {
      "image/png": "[encoded data removed]",
      "text/plain": [
       "<matplotlib.figure.Figure at 0x16d4c6750>"
      ]
     },
     "metadata": {},
     "output_type": "display_data"
    }
   ],
   "source": [
    "#create data frame that has the result of the MDS plus the cluster numbers and titles\n",
    "df = pd.DataFrame(dict(x=xs, y=ys, label=clusters, title=resnames)) \n",
    "\n",
    "#group by cluster\n",
    "groups = df.groupby('label')\n",
    "\n",
    "# set up plot\n",
    "fig, ax = plt.subplots(figsize=(18, 9)) # set size\n",
    "sns.set_style(\"whitegrid\")\n",
    "ax.spines['right'].set_visible(False)\n",
    "ax.spines['top'].set_visible(False)\n",
    "ax.margins(0.05) # Optional, just adds 5% padding to the autoscaling\n",
    "\n",
    "#iterate through groups to layer the plot\n",
    "#note that I use the cluster_name and cluster_color dicts with the 'name' lookup to return the appropriate color/label\n",
    "for name, group in groups:\n",
    "    ax.plot(group.x, group.y, marker='o', linestyle='', ms=12, \n",
    "            label=cluster_names[name], color=cluster_colors[name], \n",
    "            mec='none')\n",
    "    ax.set_aspect('auto')\n",
    "    ax.tick_params(\\\n",
    "        axis= 'x',          # changes apply to the x-axis\n",
    "        which='both',      # both major and minor ticks are affected\n",
    "        bottom='off',      # ticks along the bottom edge are off\n",
    "        top='off',         # ticks along the top edge are off\n",
    "        labelbottom='off')\n",
    "    ax.tick_params(\\\n",
    "        axis= 'y',         # changes apply to the y-axis\n",
    "        which='both',      # both major and minor ticks are affected\n",
    "        left='off',      # ticks along the bottom edge are off\n",
    "        top='off',         # ticks along the top edge are off\n",
    "        labelleft='off')\n",
    "    \n",
    "ax.legend(numpoints=1)  #show legend with only 1 point\n",
    "\n",
    "#add label in x,y position with the label as the film title\n",
    "for i in range(len(df)):\n",
    "    ax.text(df.ix[i]['x'], df.ix[i]['y'], df.ix[i]['title'], size=8)  \n",
    "\n",
    "plt.grid(False)\n",
    "plt.show() #show the plot\n",
    "\n",
    "#uncomment the below to save the plot if need be\n",
    "#plt.savefig('clusters_small_noaxes.png', dpi=200)"
   ]
  },
  {
   "cell_type": "code",
   "execution_count": null,
   "metadata": {
    "collapsed": true
   },
   "outputs": [],
   "source": []
  },
  {
   "cell_type": "code",
   "execution_count": 1151,
   "metadata": {
    "collapsed": false
   },
   "outputs": [
    {
     "name": "stdout",
     "output_type": "stream",
     "text": [
      "<type 'dict'> 78\n"
     ]
    }
   ],
   "source": [
    "tfidfwords = tfidf.vocabulary_\n",
    "print type(tfidfwords), len(tfidfwords)"
   ]
  },
  {
   "cell_type": "code",
   "execution_count": 1152,
   "metadata": {
    "collapsed": false
   },
   "outputs": [],
   "source": [
    "# (0, 61799)\n",
    "# tdidfwords\n",
    "\n",
    "for key, val in tfidfwords.items():\n",
    "    if val == 3021:\n",
    "        print key"
   ]
  },
  {
   "cell_type": "code",
   "execution_count": 1153,
   "metadata": {
    "collapsed": false
   },
   "outputs": [
    {
     "name": "stdout",
     "output_type": "stream",
     "text": [
      "63897 8034\n"
     ]
    }
   ],
   "source": [
    "flat_tokens = [item for sublist in tokens for item in sublist]\n",
    "flat_set = set(flat_tokens)\n",
    "\n",
    "print len(flat_tokens), len(flat_set)"
   ]
  },
  {
   "cell_type": "code",
   "execution_count": 1154,
   "metadata": {
    "collapsed": true
   },
   "outputs": [],
   "source": [
    "grandset = dict.fromkeys(list(flat_set))"
   ]
  },
  {
   "cell_type": "code",
   "execution_count": 1155,
   "metadata": {
    "collapsed": false,
    "scrolled": false
   },
   "outputs": [],
   "source": [
    "# for i in range(2):\n",
    "#     tempset = list(set(tokens[i]))\n",
    "#     for j in range(len(tokens[i])):\n",
    "#         print len(tokens[i]), len(tempset), tokens[i][j], tempset[j]"
   ]
  },
  {
   "cell_type": "code",
   "execution_count": null,
   "metadata": {
    "collapsed": true
   },
   "outputs": [],
   "source": []
  },
  {
   "cell_type": "code",
   "execution_count": 1156,
   "metadata": {
    "collapsed": true
   },
   "outputs": [],
   "source": [
    "blob = TextBlob(corpus[5])\n",
    "tempnouns = blob.noun_phrases"
   ]
  },
  {
   "cell_type": "code",
   "execution_count": 1157,
   "metadata": {
    "collapsed": false
   },
   "outputs": [
    {
     "name": "stdout",
     "output_type": "stream",
     "text": [
      "<class 'textblob.blob.WordList'> 140 123\n"
     ]
    }
   ],
   "source": [
    "print type(tempnouns), len(tempnouns), len(set(tempnouns))"
   ]
  },
  {
   "cell_type": "code",
   "execution_count": 1193,
   "metadata": {
    "collapsed": false
   },
   "outputs": [],
   "source": [
    "noundictionary = defaultdict(list)\n",
    "resumenouns = defaultdict(list)\n",
    "\n",
    "for i in range(75):\n",
    "    blob = TextBlob(corpus[i])\n",
    "    tempnouns = list(blob.noun_phrases)\n",
    "    setnouns = list(set(tempnouns))\n",
    "    for j in range(len(setnouns)):\n",
    "        if setnouns[j] not in stopwords:\n",
    "            noundictionary[setnouns[j]].append(i+1)\n",
    "            resumenouns[setnouns[j]].append(i)\n"
   ]
  },
  {
   "cell_type": "code",
   "execution_count": 1201,
   "metadata": {
    "collapsed": false
   },
   "outputs": [
    {
     "name": "stdout",
     "output_type": "stream",
     "text": [
      "responsible :  [5, 6, 9, 10, 18, 22, 25, 26, 30, 34, 35, 36, 40, 42, 45, 46, 47, 49, 51, 52, 53, 54, 56, 59, 60, 61, 66, 67, 68, 70, 72, 73, 74]\n",
      "planned :  [16, 38, 40, 41, 42, 44, 45, 58, 59, 65, 67, 73]\n",
      "worked :  [7, 13, 18, 24, 25, 27, 28, 30, 31, 33, 41, 42, 44, 47, 50, 52, 65, 67]\n",
      "support :  [8, 18, 19, 29, 30, 32, 33, 38, 41, 42, 45, 48, 50, 53, 67, 69]\n",
      "team :  [0, 19, 20, 25, 35, 38, 42, 49, 52, 53, 59, 64, 68, 71]\n",
      "central command :  [16, 20, 22, 38, 40, 46, 50, 55, 60, 61, 62, 72]\n",
      "studies :  [0, 2, 10, 13, 14, 15, 16, 18, 22, 27, 28, 33, 39, 41, 43, 44, 55, 57, 58, 60, 68, 73, 74]\n",
      "palantir :  [8, 10, 20, 22, 30, 32, 35, 36, 37, 44, 50, 53, 64, 69]\n",
      "political science :  [0, 4, 6, 12, 15, 17, 19, 25, 27, 31, 33, 34, 40, 41, 43, 55, 65, 66]\n",
      "air force :  [3, 11, 15, 17, 23, 24, 28, 31, 36, 45, 46, 47, 52, 54, 61, 62, 70, 74]\n",
      "training :  [0, 5, 6, 8, 12, 14, 16, 30, 32, 35, 38, 39, 40, 41, 43, 44, 45, 49, 50, 51, 52, 53, 56, 62, 63, 68, 70, 71, 72, 74]\n",
      "combined :  [0, 19, 27, 39, 40, 41, 44, 45, 46, 48, 62, 64, 65, 68]\n",
      "surveillance :  [3, 30, 40, 44, 45, 46, 49, 50, 54, 62, 64, 68, 70]\n",
      "experience :  [9, 10, 11, 13, 16, 19, 25, 30, 40, 43, 44, 46, 48, 59, 64, 71, 74]\n",
      "information :  [0, 9, 14, 20, 26, 29, 30, 41, 44, 45, 47, 52, 53, 67, 68, 69, 70, 71, 72]\n",
      "b.a. :  [27, 34, 38, 50, 56, 59, 60, 61, 63, 66, 67, 70, 71, 73]\n",
      "intelligence support :  [19, 22, 37, 40, 41, 42, 44, 48, 50, 51, 53, 70, 73]\n",
      "microsoft :  [1, 2, 4, 6, 8, 9, 14, 15, 16, 18, 21, 23, 25, 26, 32, 38, 39, 40, 43, 50, 51, 64, 69]\n",
      "europe :  [0, 3, 9, 10, 30, 33, 39, 41, 42, 43, 44, 47, 59, 60, 64, 65, 68, 71]\n",
      "clearance :  [3, 9, 22, 29, 30, 34, 40, 43, 44, 45, 48, 53, 58, 59, 63, 64, 65, 68]\n",
      "homeland :  [0, 9, 14, 16, 17, 19, 28, 30, 35, 47, 48, 54, 71]\n",
      "produced :  [0, 6, 8, 16, 32, 37, 40, 41, 42, 44, 47, 49, 50, 61]\n",
      "subject matter expert :  [3, 9, 19, 30, 35, 38, 39, 41, 45, 46, 49, 51, 71, 73]\n",
      "sigint :  [3, 6, 8, 10, 12, 22, 24, 26, 27, 31, 32, 40, 41, 42, 43, 44, 45, 46, 48, 50, 51, 52, 53, 54, 59, 67, 70]\n",
      "ci :  [3, 4, 19, 39, 40, 41, 43, 44, 50, 51, 64, 73]\n",
      "national security :  [0, 5, 14, 15, 17, 27, 29, 33, 34, 38, 39, 43, 44, 47, 48, 52, 59, 66, 68, 73, 74]\n",
      "protection :  [10, 20, 23, 30, 38, 41, 42, 44, 45, 56, 64, 70, 71]\n",
      "created :  [0, 1, 8, 11, 17, 21, 24, 28, 30, 31, 32, 44, 45, 49, 68]\n",
      "forces :  [7, 8, 21, 22, 27, 30, 32, 35, 40, 42, 43, 44, 45, 46, 47, 54, 55, 62, 64, 65, 66, 68, 69, 71, 74]\n",
      "germany :  [0, 6, 21, 30, 39, 43, 44, 52, 56, 61, 64, 65, 67, 68, 72]\n",
      "iraq :  [0, 4, 10, 12, 18, 19, 20, 21, 22, 23, 30, 34, 35, 36, 37, 40, 41, 42, 45, 46, 48, 49, 50, 51, 52, 57, 62, 63, 64, 68, 69, 73, 74]\n",
      "intelligence information :  [10, 19, 20, 21, 22, 30, 43, 44, 45, 46, 51, 53]\n",
      "staff :  [0, 5, 10, 16, 19, 27, 30, 33, 36, 38, 39, 40, 41, 42, 43, 44, 45, 56, 57, 59, 61, 62, 65, 66, 67, 68, 70, 73, 74]\n",
      "m.a. :  [0, 27, 34, 47, 50, 56, 57, 60, 65, 66, 68, 70, 72, 73]\n",
      "america :  [10, 11, 29, 33, 42, 43, 44, 45, 47, 49, 57, 60, 63, 74]\n",
      "commander :  [0, 5, 20, 22, 27, 40, 41, 42, 43, 44, 46, 47, 48, 50, 54, 58, 62, 65, 66, 72, 74]\n",
      "supervised :  [18, 19, 27, 30, 41, 42, 44, 45, 46, 47, 48, 53, 54, 59, 65, 68, 72]\n",
      "trained :  [6, 8, 10, 24, 26, 31, 32, 34, 38, 40, 44, 50, 59, 64, 72]\n",
      "dia :  [6, 9, 10, 16, 18, 19, 20, 21, 30, 35, 36, 38, 43, 44, 46, 47, 48, 51, 52, 54, 55, 56, 57, 61, 67, 68, 70, 72, 73]\n",
      "liaison :  [5, 7, 30, 43, 44, 45, 49, 55, 63, 69, 72, 73]\n",
      "officers :  [6, 8, 32, 35, 38, 39, 40, 44, 45, 46, 48, 59, 61, 64, 65, 68]\n",
      "centcom :  [6, 8, 10, 16, 27, 32, 35, 40, 41, 48, 50, 51, 53, 69, 70]\n",
      "us army :  [7, 8, 21, 23, 29, 30, 32, 35, 40, 41, 42, 43, 45, 47, 48, 51, 53, 64, 66, 68, 73]\n",
      "analyst notebook :  [1, 3, 10, 12, 15, 16, 22, 23, 30, 35, 40, 44, 46, 51, 53, 64, 69, 71]\n",
      "management :  [8, 10, 19, 28, 32, 34, 40, 43, 44, 45, 52, 58, 69, 72]\n",
      "joint :  [10, 17, 21, 22, 27, 30, 40, 41, 42, 43, 44, 45, 46, 47, 48, 50, 51, 52, 53, 61, 62, 64, 65, 66, 68, 70, 73, 74]\n",
      "education :  [2, 10, 13, 24, 25, 33, 40, 41, 47, 52, 59, 61]\n",
      "asia :  [0, 6, 9, 13, 41, 42, 43, 47, 48, 51, 53, 58, 60, 61, 64, 73, 74]\n",
      "operations :  [0, 5, 6, 8, 15, 20, 21, 22, 26, 27, 30, 31, 32, 37, 38, 40, 41, 42, 43, 44, 45, 46, 47, 50, 51, 53, 56, 59, 60, 62, 64, 65, 66, 67, 68, 69, 70, 71, 72, 73, 74]\n",
      "task force :  [0, 10, 20, 21, 22, 27, 30, 34, 35, 37, 40, 41, 42, 46, 48, 50, 51, 53, 54, 57, 59, 60, 62, 64, 65, 66, 73, 74]\n",
      "state university :  [4, 15, 17, 18, 30, 33, 40, 42, 60, 65, 68, 73]\n",
      "u.s. :  [0, 4, 5, 10, 11, 12, 15, 17, 18, 19, 20, 21, 22, 23, 25, 28, 29, 33, 34, 35, 38, 40, 42, 43, 44, 45, 46, 47, 48, 51, 52, 53, 58, 59, 60, 62, 63, 64, 65, 66, 67, 69, 71, 72, 73]\n",
      "isr :  [3, 6, 15, 22, 40, 42, 44, 45, 46, 48, 49, 50, 52, 53, 54, 62, 70]\n",
      "dod :  [3, 8, 16, 17, 19, 23, 27, 30, 32, 40, 41, 43, 44, 48, 52, 53, 54, 55, 59, 61, 64, 67, 68, 72]\n",
      "ic :  [8, 9, 10, 12, 14, 16, 19, 22, 23, 30, 32, 33, 36, 38, 46, 50, 51, 52, 67]\n",
      "m3 :  [0, 8, 15, 16, 20, 22, 23, 30, 32, 35, 40, 50, 64]\n",
      "analyst :  [4, 6, 9, 10, 11, 14, 28, 30, 33, 35, 43, 44, 46, 50, 62, 65, 71, 73]\n",
      "managed :  [0, 2, 5, 6, 8, 10, 17, 18, 19, 22, 28, 32, 38, 41, 42, 44, 45, 47, 48, 54, 56, 57, 59, 61, 68, 69, 71, 72, 73]\n",
      "iraqi :  [12, 16, 18, 19, 21, 23, 29, 35, 37, 40, 42, 45, 49, 50, 51, 63, 68, 69, 70, 72]\n",
      "afghanistan :  [0, 6, 8, 10, 18, 19, 20, 21, 27, 30, 31, 32, 35, 36, 39, 40, 41, 45, 46, 48, 49, 50, 51, 56, 59, 62, 64, 65, 67, 68, 71]\n",
      "policy :  [27, 28, 29, 34, 39, 43, 44, 52, 53, 54, 57, 58, 59, 60, 65]\n",
      "intelligence operations :  [8, 19, 26, 29, 32, 35, 42, 44, 45, 46, 47, 48, 69, 70]\n",
      "j2 :  [8, 19, 20, 22, 32, 37, 38, 41, 42, 43, 44, 46, 48, 51, 52]\n",
      "maintained :  [6, 9, 10, 17, 39, 41, 42, 44, 45, 49, 65, 67, 69, 70]\n",
      "africa :  [0, 3, 8, 10, 14, 16, 30, 32, 33, 36, 37, 38, 39, 41, 43, 44, 46, 49, 54, 59, 62, 66, 68, 71, 72]\n",
      "conducted :  [0, 1, 4, 6, 8, 10, 16, 17, 18, 19, 22, 29, 30, 32, 41, 42, 44, 50, 51, 53, 54, 58, 59, 60, 61, 64, 65, 67, 70, 71]\n",
      "utilized :  [17, 18, 22, 29, 30, 37, 40, 42, 44, 49, 56, 67]\n",
      "intelligence products :  [10, 11, 14, 16, 23, 30, 33, 35, 37, 40, 41, 42, 45, 49, 67, 69]\n",
      "eucom :  [19, 43, 44, 54, 56, 61, 65, 67, 69, 70, 71, 72, 74]\n",
      "extensive :  [0, 6, 8, 10, 16, 28, 32, 34, 45, 47, 48, 56, 61, 63, 64, 67, 68]\n",
      "directed :  [6, 39, 40, 42, 44, 45, 47, 48, 51, 55, 57, 59, 68, 70, 72]\n",
      "prepared :  [0, 1, 17, 22, 27, 30, 35, 40, 41, 43, 44, 45, 49, 51, 61, 67, 68, 73]\n",
      "assisted :  [2, 5, 8, 12, 28, 30, 32, 33, 44, 49, 51, 53, 61, 64, 67, 70]\n",
      "researched :  [8, 18, 20, 32, 33, 37, 43, 51, 55, 64, 70, 71]\n",
      "intelligence analysis :  [3, 6, 12, 19, 20, 29, 34, 38, 42, 45, 46, 48, 52, 61]\n",
      "performed :  [8, 10, 16, 20, 28, 30, 32, 34, 35, 38, 49, 51, 53, 65, 67, 68, 70]\n",
      "joint staff :  [19, 27, 30, 38, 40, 43, 44, 47, 48, 52, 58, 59, 68, 71, 73]\n",
      "coordinated :  [9, 17, 19, 24, 27, 29, 30, 31, 37, 38, 40, 41, 42, 44, 46, 47, 48, 53, 57, 58, 65, 66, 68, 70, 72, 73]\n",
      "plans :  [5, 27, 40, 44, 45, 52, 58, 60, 65, 70, 73, 74]\n",
      "senior :  [0, 5, 6, 14, 26, 28, 39, 40, 43, 44, 45, 47, 48, 51, 52, 59, 61, 64, 65, 66, 68, 71]\n",
      "provided :  [0, 2, 6, 8, 9, 10, 12, 14, 16, 17, 18, 19, 21, 22, 26, 28, 29, 30, 32, 33, 35, 40, 41, 42, 43, 44, 45, 47, 49, 50, 53, 57, 58, 59, 64, 65, 68, 71, 73, 74]\n",
      "program :  [0, 6, 9, 14, 19, 27, 28, 36, 39, 41, 44, 47, 50, 52, 53, 55, 56, 61, 65, 66, 68, 73, 74]\n",
      "global :  [3, 5, 20, 21, 22, 38, 44, 45, 46, 49, 54, 73]\n",
      "google earth :  [0, 1, 6, 9, 10, 14, 15, 18, 22, 23, 35, 46, 64, 71]\n",
      "naval :  [0, 31, 33, 38, 44, 50, 51, 57, 60, 63, 68, 74]\n",
      "developed :  [0, 5, 18, 19, 22, 27, 28, 29, 40, 41, 42, 44, 45, 46, 47, 48, 49, 53, 58, 59, 60, 63, 64, 66, 68, 72]\n",
      "intelligence :  [0, 1, 3, 4, 6, 8, 9, 10, 14, 16, 19, 20, 21, 22, 23, 26, 27, 29, 30, 31, 32, 33, 34, 35, 36, 37, 38, 39, 40, 41, 42, 43, 44, 45, 46, 47, 48, 49, 50, 51, 52, 54, 56, 57, 58, 59, 60, 61, 62, 64, 66, 67, 68, 69, 70, 71, 72, 73]\n",
      "humint :  [3, 4, 6, 8, 10, 19, 20, 22, 23, 26, 27, 30, 32, 33, 35, 40, 41, 42, 43, 44, 45, 46, 48, 50, 51, 53, 59, 64, 67, 68]\n",
      "korea :  [8, 19, 21, 23, 32, 40, 42, 43, 45, 48, 50, 52, 58, 62, 68, 70]\n",
      "analysis :  [10, 16, 24, 28, 29, 31, 33, 34, 35, 38, 43, 44, 45, 46, 47, 52, 54, 56, 60, 73]\n",
      "degree :  [10, 14, 22, 40, 41, 43, 44, 48, 50, 51, 52, 56, 58, 66]\n",
      "all-source intelligence analyst :  [6, 8, 9, 10, 22, 29, 32, 33, 36, 37, 49, 50]\n",
      "intelligence analyst :  [6, 14, 16, 17, 20, 22, 23, 24, 30, 31, 33, 35, 36, 43, 45, 46, 51, 60, 61, 62, 64, 65, 67, 69, 71]\n",
      "present :  [8, 14, 25, 28, 30, 32, 33, 34, 46, 51, 54, 56, 57, 63, 68]\n"
     ]
    }
   ],
   "source": [
    "for key, val in resumenouns.items():\n",
    "    if len(val) > 11:\n",
    "        print key, ': ', val"
   ]
  },
  {
   "cell_type": "code",
   "execution_count": 1186,
   "metadata": {
    "collapsed": false,
    "scrolled": false
   },
   "outputs": [
    {
     "name": "stdout",
     "output_type": "stream",
     "text": [
      "14 :  team\n",
      "14 :  palantir\n",
      "14 :  combined\n",
      "14 :  b.a.\n",
      "14 :  produced\n",
      "14 :  subject matter expert\n",
      "14 :  m.a.\n",
      "14 :  america\n",
      "14 :  management\n",
      "14 :  intelligence operations\n",
      "14 :  maintained\n",
      "14 :  intelligence analysis\n",
      "14 :  google earth\n",
      "14 :  degree\n"
     ]
    }
   ],
   "source": [
    "# set(nouns.values())\n",
    "temptokens = []\n",
    "\n",
    "for key, val in noundictionary.items():\n",
    "    if len(val) == 14 :\n",
    "        print len(val), ': ', key\n",
    "#         temptokens.append(key)"
   ]
  },
  {
   "cell_type": "code",
   "execution_count": 1183,
   "metadata": {
    "collapsed": false
   },
   "outputs": [
    {
     "data": {
      "text/plain": [
       "[u'specialist',\n",
       " u'china',\n",
       " u'dni',\n",
       " u'direct support',\n",
       " u'm.s.',\n",
       " u'law enforcement',\n",
       " u'siprnet',\n",
       " u'sme',\n",
       " u'responsible',\n",
       " u'participate',\n",
       " u'stuttgart',\n",
       " u'planned',\n",
       " u'worked',\n",
       " u'dhs',\n",
       " u'qualifications',\n",
       " u'priority intelligence requirements',\n",
       " u'information operations',\n",
       " u'meade',\n",
       " u'sof',\n",
       " u'support',\n",
       " u'years experience',\n",
       " u'useucom',\n",
       " u'gemini',\n",
       " u'and awards',\n",
       " u'senior leaders',\n",
       " u'team',\n",
       " u'central command',\n",
       " u'mentored',\n",
       " u'drafted',\n",
       " u'studies',\n",
       " u'conduct medal',\n",
       " u'working',\n",
       " u'intelligence requirements',\n",
       " u'palantir',\n",
       " u'applications',\n",
       " u'political science',\n",
       " u'cidne',\n",
       " u'nsa',\n",
       " u'honduras',\n",
       " u'air force',\n",
       " u'internet',\n",
       " u'training',\n",
       " u'citp',\n",
       " u'russia',\n",
       " u'awards',\n",
       " u'mission requirements',\n",
       " u'combined',\n",
       " u'national security agency',\n",
       " u'surveillance',\n",
       " u'lebanon',\n",
       " u'congress',\n",
       " u'sci',\n",
       " u'federal bureau',\n",
       " u'combating terrorism',\n",
       " u'computer skills',\n",
       " u'experience',\n",
       " u'information',\n",
       " u'b.a.',\n",
       " u'communication skills',\n",
       " u'major',\n",
       " u'introduction',\n",
       " u'iranian',\n",
       " u'intelligence support',\n",
       " u'microsoft',\n",
       " u'currently',\n",
       " u'europe',\n",
       " u'additional skills',\n",
       " u'acted',\n",
       " u'counterintelligence',\n",
       " u'clearance',\n",
       " u'homeland',\n",
       " u'cia',\n",
       " u'marine corps',\n",
       " u'monterey',\n",
       " u'state department',\n",
       " u'tripwire analytic capability',\n",
       " u'technical',\n",
       " u'certificate',\n",
       " u'huachuca',\n",
       " u'counter',\n",
       " u'produced',\n",
       " u'subject matter expert',\n",
       " u'collection',\n",
       " u'link analysis',\n",
       " u'situational awareness',\n",
       " u'sergeant',\n",
       " u'enforcement',\n",
       " u'details branch',\n",
       " u'korean',\n",
       " u'osint',\n",
       " u'sigint',\n",
       " u'ci',\n",
       " u'terrorism',\n",
       " u'columbia',\n",
       " u'afghan',\n",
       " u'intelligence gaps',\n",
       " u'belgium',\n",
       " u'national security',\n",
       " u'jwics',\n",
       " u'intelligence reports',\n",
       " u'established',\n",
       " u'protection',\n",
       " u'reston',\n",
       " u'provide',\n",
       " u'japan',\n",
       " u'created',\n",
       " u'law enforcement agencies',\n",
       " u'forces',\n",
       " u'germany',\n",
       " u'da',\n",
       " u'received',\n",
       " u'security clearance',\n",
       " u'iraq',\n",
       " u'duties',\n",
       " u'intelligence information',\n",
       " u'forces korea',\n",
       " u'physical',\n",
       " u'assistance',\n",
       " u'staff',\n",
       " u'combatant',\n",
       " u'deputy director',\n",
       " u'national defense service',\n",
       " u'produce',\n",
       " u'aor',\n",
       " u'm.a.',\n",
       " u'intelligence training',\n",
       " u'domex',\n",
       " u'transition',\n",
       " u'directly',\n",
       " u'coalition forces',\n",
       " u'objective',\n",
       " u'america',\n",
       " u'ground',\n",
       " u'baghdad',\n",
       " u'collection management',\n",
       " u'actively',\n",
       " u'analyzed',\n",
       " u'attache',\n",
       " u'us embassy',\n",
       " u'commander',\n",
       " u'develop',\n",
       " u'source intelligence',\n",
       " u'coordinate',\n",
       " u'intelligence briefings',\n",
       " u'masint',\n",
       " u'supervised',\n",
       " u'outlook',\n",
       " u'mission planning',\n",
       " u'wmd',\n",
       " u'army reserve',\n",
       " u'officer course',\n",
       " u'iran',\n",
       " u'strong',\n",
       " u'threat assessments',\n",
       " u'trained',\n",
       " u'yemen',\n",
       " u'history',\n",
       " u'all-source',\n",
       " u'systems',\n",
       " u'fully',\n",
       " u'dia',\n",
       " u'base',\n",
       " u'liaison',\n",
       " u'syria',\n",
       " u'military forces',\n",
       " u'airborne',\n",
       " u'nco',\n",
       " u'u.s',\n",
       " u'officers',\n",
       " u'education and training experience degree',\n",
       " u'collection operations',\n",
       " u'centcom',\n",
       " u'information systems',\n",
       " u'us army',\n",
       " u'force protection',\n",
       " u'top secret/sci status',\n",
       " u'lieutenant colonel',\n",
       " u'g2',\n",
       " u'analyst notebook',\n",
       " u'government agencies',\n",
       " u'saudi arabia',\n",
       " u'project management',\n",
       " u'powerpoint',\n",
       " u'facilitated',\n",
       " u'polygraph',\n",
       " u'inscom',\n",
       " u'advisor',\n",
       " u'target development',\n",
       " u'management',\n",
       " u'expires',\n",
       " u'soldiers',\n",
       " u'nga',\n",
       " u'combat training',\n",
       " u'joint',\n",
       " u'procedures',\n",
       " u'africom',\n",
       " u'foreign area officer',\n",
       " u'computer',\n",
       " u'key',\n",
       " u'intelligence preparation',\n",
       " u'career',\n",
       " u'bae systems',\n",
       " u'pacom',\n",
       " u'coalition partners',\n",
       " u'language skills',\n",
       " u'source intelligence analyst',\n",
       " u'usaf',\n",
       " u'balkans',\n",
       " u'recognized',\n",
       " u'cocom',\n",
       " u'imint',\n",
       " u'hq',\n",
       " u'education',\n",
       " u'combined joint',\n",
       " u'additionally',\n",
       " u'updated',\n",
       " u'implemented',\n",
       " u'asia',\n",
       " u'active',\n",
       " u'kabul',\n",
       " u'operations',\n",
       " u'task force',\n",
       " u'state university',\n",
       " u'resume',\n",
       " u'u.s.',\n",
       " u'isr',\n",
       " u'operational planning',\n",
       " u'resource management',\n",
       " u'belvoir',\n",
       " u'dod',\n",
       " u'all-source analysis',\n",
       " u'reviewed',\n",
       " u'briefed',\n",
       " u'subject',\n",
       " u'saic',\n",
       " u'community college',\n",
       " u'secret /',\n",
       " u'targeting',\n",
       " u'reconnaissance',\n",
       " u'southern command',\n",
       " u'io',\n",
       " u'ic',\n",
       " u'pathfinder',\n",
       " u'programs',\n",
       " u'assigned',\n",
       " u'candidate',\n",
       " u'dean',\n",
       " u'extensive research',\n",
       " u'high school',\n",
       " u'doctrine',\n",
       " u'm3',\n",
       " u'analyst',\n",
       " u'excel',\n",
       " u'managed',\n",
       " u'iraqi',\n",
       " u'advised',\n",
       " u'afghanistan',\n",
       " u'somalia',\n",
       " u'senior leadership',\n",
       " u'strategic levels',\n",
       " u'france',\n",
       " u'intelligence community',\n",
       " u'designed',\n",
       " u'quality control',\n",
       " u'policy',\n",
       " u'intelligence operations',\n",
       " u'language',\n",
       " u'ministry',\n",
       " u'certification',\n",
       " u'wide range',\n",
       " u'biometrics',\n",
       " u'summary',\n",
       " u'j2',\n",
       " u'executive officer',\n",
       " u'maintained',\n",
       " u'oif',\n",
       " u'operational plans',\n",
       " u'serves',\n",
       " u'senior intelligence',\n",
       " u'references',\n",
       " u'personnel',\n",
       " u'network',\n",
       " u'kuwait',\n",
       " u'uscentcom',\n",
       " u'intelligence summaries',\n",
       " u'counter terrorism',\n",
       " u'africa',\n",
       " u'suite',\n",
       " u'dea',\n",
       " u'responsibility',\n",
       " u'mass destruction',\n",
       " u'ncoic',\n",
       " u'conducted',\n",
       " u'utilized',\n",
       " u'directorate',\n",
       " u'intelligence products',\n",
       " u'distributed',\n",
       " u'eucom',\n",
       " u'expert',\n",
       " u'commendation medal',\n",
       " u'strategic level',\n",
       " u'ensured',\n",
       " u'extensive',\n",
       " u'southcom',\n",
       " u'italy',\n",
       " u'source',\n",
       " u'combatant commands',\n",
       " u'source intelligence analysis',\n",
       " u'midb',\n",
       " u'proficient',\n",
       " u'oef',\n",
       " u'interagency',\n",
       " u'directed',\n",
       " u'prepared',\n",
       " u'ts/sci',\n",
       " u'brigade',\n",
       " u'assisted',\n",
       " u'analytical products',\n",
       " u'infantry',\n",
       " u'intelligence experience',\n",
       " u'identified',\n",
       " u'completed',\n",
       " u'supported',\n",
       " u'teams',\n",
       " u'senior intelligence analyst',\n",
       " u'intelligence fusion',\n",
       " u'european command',\n",
       " u'arabic',\n",
       " u'job type',\n",
       " u'message traffic',\n",
       " u'lieutenant',\n",
       " u'intelligence collection',\n",
       " u'wise',\n",
       " u'applied',\n",
       " u'direct',\n",
       " u'selected',\n",
       " u'active duty',\n",
       " u'conduct',\n",
       " u'open source',\n",
       " u'assessment',\n",
       " u'excellent',\n",
       " u'mi',\n",
       " u'bosnia',\n",
       " u'collection requirements',\n",
       " u'collaborated',\n",
       " u'associate',\n",
       " u'primary',\n",
       " u'researched',\n",
       " u'coic',\n",
       " u'commanding',\n",
       " u'geoint',\n",
       " u'iirs',\n",
       " u'dept',\n",
       " u'isaf',\n",
       " u'monitored',\n",
       " u'advanced',\n",
       " u'successfully',\n",
       " u'intelligence analysis',\n",
       " u'us government',\n",
       " u'level',\n",
       " u'american military university',\n",
       " u'security command',\n",
       " u'performed',\n",
       " u'joint chiefs',\n",
       " u'islamic',\n",
       " u'joint staff',\n",
       " u'coordinated',\n",
       " u'plans',\n",
       " u'professional development',\n",
       " u'attended',\n",
       " u'national guard',\n",
       " u'oversaw',\n",
       " u'multiple',\n",
       " u'senior',\n",
       " u'review',\n",
       " u'pakistan',\n",
       " u'government officials',\n",
       " u'current intelligence',\n",
       " u'army achievement',\n",
       " u'program management',\n",
       " u'signals intelligence',\n",
       " u'tactical',\n",
       " u'falconview',\n",
       " u'military operations',\n",
       " u'provided',\n",
       " u'provides',\n",
       " u'politics',\n",
       " u'program',\n",
       " u'global',\n",
       " u'google earth',\n",
       " u'naval',\n",
       " u'minor',\n",
       " u'israel',\n",
       " u'daily basis',\n",
       " u'intelink',\n",
       " u'analytical support',\n",
       " u'developed',\n",
       " u'b.s.',\n",
       " u'gpa',\n",
       " u'enduring',\n",
       " u'military personnel',\n",
       " u'kosovo',\n",
       " u'future operations',\n",
       " u'ied',\n",
       " u'wrote',\n",
       " u'intelligence',\n",
       " u'humint',\n",
       " u'korea',\n",
       " u'instructor',\n",
       " u'georgia',\n",
       " u'socom',\n",
       " u'analysis',\n",
       " u'intelligence studies',\n",
       " u'dcgs-a',\n",
       " u'deployed',\n",
       " u'pirs',\n",
       " u'usfk',\n",
       " u'languages',\n",
       " u'all-source intelligence',\n",
       " u'degree',\n",
       " u'egypt',\n",
       " u'tac',\n",
       " u'joint intelligence',\n",
       " u'foreign policy',\n",
       " u'sipr',\n",
       " u'operational',\n",
       " u'deputy chief',\n",
       " u'all-source intelligence analyst',\n",
       " u'intelligence analyst',\n",
       " u'meritorious',\n",
       " u'present',\n",
       " u'member',\n",
       " u'english',\n",
       " u'operations forces',\n",
       " u'civilian personnel',\n",
       " u'lead',\n",
       " u'army service',\n",
       " u'arcgis',\n",
       " u'u.s. intelligence']"
      ]
     },
     "execution_count": 1183,
     "metadata": {},
     "output_type": "execute_result"
    }
   ],
   "source": [
    "for i in range(end):\n",
    "    temptokens\n",
    "    \n",
    "for i in range(75):\n",
    "    blob = TextBlob(corpus[i])\n",
    "    tempnouns = list(blob.noun_phrases)\n",
    "    setnouns = list(set(tempnouns))\n",
    "    for j in range(len(setnouns)):\n",
    "        if setnouns[j] not in stopwords:\n",
    "            noundictionary[setnouns[j]].append(i+1)"
   ]
  },
  {
   "cell_type": "code",
   "execution_count": 1172,
   "metadata": {
    "collapsed": true
   },
   "outputs": [],
   "source": [
    "tokencounts = defaultdict(int)\n",
    "\n",
    "for key, val in noundictionary.items():\n",
    "    tokencounts[len(val)] += 1\n",
    "    "
   ]
  },
  {
   "cell_type": "code",
   "execution_count": 1173,
   "metadata": {
    "collapsed": false
   },
   "outputs": [
    {
     "data": {
      "text/plain": [
       "defaultdict(int,\n",
       "            {1: 10166,\n",
       "             2: 1146,\n",
       "             3: 369,\n",
       "             4: 206,\n",
       "             5: 110,\n",
       "             6: 84,\n",
       "             7: 39,\n",
       "             8: 32,\n",
       "             9: 32,\n",
       "             10: 25,\n",
       "             11: 23,\n",
       "             12: 13,\n",
       "             13: 6,\n",
       "             14: 14,\n",
       "             15: 9,\n",
       "             16: 5,\n",
       "             17: 6,\n",
       "             18: 8,\n",
       "             19: 2,\n",
       "             20: 2,\n",
       "             21: 3,\n",
       "             22: 1,\n",
       "             23: 3,\n",
       "             24: 1,\n",
       "             25: 3,\n",
       "             26: 2,\n",
       "             27: 1,\n",
       "             28: 2,\n",
       "             29: 3,\n",
       "             30: 3,\n",
       "             31: 1,\n",
       "             33: 2,\n",
       "             40: 1,\n",
       "             41: 1,\n",
       "             45: 1,\n",
       "             58: 1})"
      ]
     },
     "execution_count": 1173,
     "metadata": {},
     "output_type": "execute_result"
    }
   ],
   "source": [
    "tokencounts\n",
    "#     if len(val) == 58:\n",
    "#     print len(val), ': ', key"
   ]
  },
  {
   "cell_type": "code",
   "execution_count": 1174,
   "metadata": {
    "collapsed": false
   },
   "outputs": [
    {
     "data": {
      "text/plain": [
       "12326"
      ]
     },
     "execution_count": 1174,
     "metadata": {},
     "output_type": "execute_result"
    }
   ],
   "source": [
    "len(noundictionary)"
   ]
  },
  {
   "cell_type": "code",
   "execution_count": 1175,
   "metadata": {
    "collapsed": false
   },
   "outputs": [
    {
     "data": {
      "image/png": "[encoded data removed]",
      "text/plain": [
       "<matplotlib.figure.Figure at 0x16d4d13d0>"
      ]
     },
     "metadata": {},
     "output_type": "display_data"
    }
   ],
   "source": [
    "plt.figure(figsize=(5,3))\n",
    "sns.set_style(\"whitegrid\")\n",
    "ax = plt.subplot(111)\n",
    "ax.spines['right'].set_visible(False)\n",
    "ax.spines['top'].set_visible(False)\n",
    "\n",
    "plt.bar(range(len(tokencounts.values())), tokencounts.values(), \n",
    "        align = 'center', color = colors[4], alpha = 0.4, label = '')\n",
    "\n",
    "# plt.xticks(range(len(noundictionary.values())),range(len(noundictionary.values())))\n",
    "plt.xlim(0,65)\n",
    "# plt.ylim(0.0,1.1)\n",
    "plt.title('Topics\\n', fontsize=14, fontweight='normal')\n",
    "plt.xlabel('Token Count', fontsize=12)\n",
    "plt.ylabel('Frequency', fontsize=12)\n",
    "     \n",
    "plt.legend()\n",
    "plt.grid(False)"
   ]
  },
  {
   "cell_type": "markdown",
   "metadata": {
    "collapsed": false,
    "scrolled": false
   },
   "source": [
    "### sklearn AgglomerativeClustering\n",
    "\n",
    "* [Agglomerative clustering with and without structure](http://scikit-learn.org/stable/auto_examples/cluster/plot_agglomerative_clustering.html)"
   ]
  },
  {
   "cell_type": "code",
   "execution_count": 107,
   "metadata": {
    "collapsed": false
   },
   "outputs": [
    {
     "ename": "NameError",
     "evalue": "name 'x' is not defined",
     "output_type": "error",
     "traceback": [
      "\u001b[0;31m---------------------------------------------------------------------------\u001b[0m",
      "\u001b[0;31mNameError\u001b[0m                                 Traceback (most recent call last)",
      "\u001b[0;32m<ipython-input-107-c4cfedb730ba>\u001b[0m in \u001b[0;36m<module>\u001b[0;34m()\u001b[0m\n\u001b[0;32m----> 1\u001b[0;31m \u001b[0mX\u001b[0m \u001b[0;34m=\u001b[0m \u001b[0mx\u001b[0m\u001b[0;34m.\u001b[0m\u001b[0mtoarray\u001b[0m\u001b[0;34m(\u001b[0m\u001b[0;34m)\u001b[0m\u001b[0;34m\u001b[0m\u001b[0m\n\u001b[0m\u001b[1;32m      2\u001b[0m \u001b[0mknn\u001b[0m \u001b[0;34m=\u001b[0m \u001b[0;36m10\u001b[0m\u001b[0;34m\u001b[0m\u001b[0m\n\u001b[1;32m      3\u001b[0m \u001b[0;34m\u001b[0m\u001b[0m\n\u001b[1;32m      4\u001b[0m \u001b[0mknn_graph\u001b[0m \u001b[0;34m=\u001b[0m \u001b[0mkneighbors_graph\u001b[0m\u001b[0;34m(\u001b[0m\u001b[0mX\u001b[0m\u001b[0;34m,\u001b[0m \u001b[0mknn\u001b[0m\u001b[0;34m,\u001b[0m \u001b[0minclude_self\u001b[0m\u001b[0;34m=\u001b[0m\u001b[0mFalse\u001b[0m\u001b[0;34m)\u001b[0m\u001b[0;34m\u001b[0m\u001b[0m\n\u001b[1;32m      5\u001b[0m \u001b[0;34m\u001b[0m\u001b[0m\n",
      "\u001b[0;31mNameError\u001b[0m: name 'x' is not defined"
     ]
    }
   ],
   "source": [
    "X = x.toarray()\n",
    "knn = 10\n",
    "\n",
    "knn_graph = kneighbors_graph(X, knn, include_self=False)\n",
    "\n",
    "for connectivity in (None, knn_graph):\n",
    "    for n_clusters in (knn, 3):\n",
    "        plt.figure(figsize=(18, 4))\n",
    "        \n",
    "        for index, linkage in enumerate(('average', 'complete', 'ward')):\n",
    "\n",
    "            plt.subplot(1, 3, index + 1)\n",
    "            model = AgglomerativeClustering(linkage=linkage,\n",
    "                                            connectivity=connectivity,\n",
    "                                            n_clusters=n_clusters)\n",
    "            t0 = time.time()\n",
    "            model.fit(X)\n",
    "            elapsed_time = time.time() - t0\n",
    "            \n",
    "            plt.scatter(X[:, 0], X[:, 1], c=model.labels_, cmap=plt.cm.spectral)\n",
    "            plt.title('linkage=%s (time %.2fs)' % (linkage, elapsed_time),\n",
    "                      fontdict=dict(verticalalignment='top'))\n",
    "            \n",
    "            plt.axis('equal')\n",
    "            plt.axis('off')\n",
    "\n",
    "            plt.subplots_adjust(bottom=0, top=.89, wspace=0, left=0, right=1)\n",
    "            plt.suptitle('n_cluster=%i, connectivity=%r' %\n",
    "                         (n_clusters, connectivity is not None), size=17)\n",
    "\n",
    "\n",
    "plt.show()"
   ]
  },
  {
   "cell_type": "markdown",
   "metadata": {},
   "source": [
    "### sklearn DBSCAN\n",
    "\n",
    "* [sklearn.cluster.DBSCAN](http://scikit-learn.org/stable/modules/generated/sklearn.cluster.DBSCAN.html)\n",
    "* [sklearn.feature_extraction.text.CountVectorizer](http://scikit-learn.org/stable/modules/generated/sklearn.feature_extraction.text.CountVectorizer.html)"
   ]
  },
  {
   "cell_type": "code",
   "execution_count": 250,
   "metadata": {
    "collapsed": false
   },
   "outputs": [],
   "source": [
    "vect = CountVectorizer(input = 'content', encoding = 'utf-8', decode_error = 'strict', \n",
    "                       strip_accents = None, lowercase=True, preprocessor = None, \n",
    "                       tokenizer = tokenizenstem, stop_words = stopwords, token_pattern='(?u)\\b\\w\\w+\\b', \n",
    "                       ngram_range = (1, ngrams), analyzer = 'word', \n",
    "                       max_df = 1.0, min_df = 1, max_features = None, \n",
    "                       vocabulary = None, binary = False)\n",
    "\n",
    "wookie = vect.fit_transform(corpus)"
   ]
  },
  {
   "cell_type": "code",
   "execution_count": 255,
   "metadata": {
    "collapsed": false
   },
   "outputs": [],
   "source": [
    "db = DBSCAN(eps=0.5, min_samples=5, metric='euclidean', \n",
    "            algorithm='auto', leaf_size=30, p=None, random_state=None).fit(wookie)"
   ]
  },
  {
   "cell_type": "code",
   "execution_count": 257,
   "metadata": {
    "collapsed": false
   },
   "outputs": [
    {
     "ename": "ValueError",
     "evalue": "setting an array element with a sequence.",
     "output_type": "error",
     "traceback": [
      "\u001b[0;31m---------------------------------------------------------------------------\u001b[0m",
      "\u001b[0;31mValueError\u001b[0m                                Traceback (most recent call last)",
      "\u001b[0;32m<ipython-input-257-ef95f6922499>\u001b[0m in \u001b[0;36m<module>\u001b[0;34m()\u001b[0m\n\u001b[1;32m     51\u001b[0m     \u001b[0mxy\u001b[0m \u001b[0;34m=\u001b[0m \u001b[0mX\u001b[0m\u001b[0;34m[\u001b[0m\u001b[0mclass_member_mask\u001b[0m \u001b[0;34m&\u001b[0m \u001b[0mcore_samples_mask\u001b[0m\u001b[0;34m]\u001b[0m\u001b[0;34m\u001b[0m\u001b[0m\n\u001b[1;32m     52\u001b[0m     plt.plot(xy[:, 0], xy[:, 1], 'o', markerfacecolor=col,\n\u001b[0;32m---> 53\u001b[0;31m              markeredgecolor='k', markersize=14)\n\u001b[0m\u001b[1;32m     54\u001b[0m \u001b[0;34m\u001b[0m\u001b[0m\n\u001b[1;32m     55\u001b[0m     \u001b[0mxy\u001b[0m \u001b[0;34m=\u001b[0m \u001b[0mX\u001b[0m\u001b[0;34m[\u001b[0m\u001b[0mclass_member_mask\u001b[0m \u001b[0;34m&\u001b[0m \u001b[0;34m~\u001b[0m\u001b[0mcore_samples_mask\u001b[0m\u001b[0;34m]\u001b[0m\u001b[0;34m\u001b[0m\u001b[0m\n",
      "\u001b[0;32m/Users/Kennimus/anaconda/lib/python2.7/site-packages/matplotlib/pyplot.pyc\u001b[0m in \u001b[0;36mplot\u001b[0;34m(*args, **kwargs)\u001b[0m\n\u001b[1;32m   3152\u001b[0m         \u001b[0max\u001b[0m\u001b[0;34m.\u001b[0m\u001b[0mhold\u001b[0m\u001b[0;34m(\u001b[0m\u001b[0mhold\u001b[0m\u001b[0;34m)\u001b[0m\u001b[0;34m\u001b[0m\u001b[0m\n\u001b[1;32m   3153\u001b[0m     \u001b[0;32mtry\u001b[0m\u001b[0;34m:\u001b[0m\u001b[0;34m\u001b[0m\u001b[0m\n\u001b[0;32m-> 3154\u001b[0;31m         \u001b[0mret\u001b[0m \u001b[0;34m=\u001b[0m \u001b[0max\u001b[0m\u001b[0;34m.\u001b[0m\u001b[0mplot\u001b[0m\u001b[0;34m(\u001b[0m\u001b[0;34m*\u001b[0m\u001b[0margs\u001b[0m\u001b[0;34m,\u001b[0m \u001b[0;34m**\u001b[0m\u001b[0mkwargs\u001b[0m\u001b[0;34m)\u001b[0m\u001b[0;34m\u001b[0m\u001b[0m\n\u001b[0m\u001b[1;32m   3155\u001b[0m     \u001b[0;32mfinally\u001b[0m\u001b[0;34m:\u001b[0m\u001b[0;34m\u001b[0m\u001b[0m\n\u001b[1;32m   3156\u001b[0m         \u001b[0max\u001b[0m\u001b[0;34m.\u001b[0m\u001b[0mhold\u001b[0m\u001b[0;34m(\u001b[0m\u001b[0mwashold\u001b[0m\u001b[0;34m)\u001b[0m\u001b[0;34m\u001b[0m\u001b[0m\n",
      "\u001b[0;32m/Users/Kennimus/anaconda/lib/python2.7/site-packages/matplotlib/__init__.pyc\u001b[0m in \u001b[0;36minner\u001b[0;34m(ax, *args, **kwargs)\u001b[0m\n\u001b[1;32m   1810\u001b[0m                     warnings.warn(msg % (label_namer, func.__name__),\n\u001b[1;32m   1811\u001b[0m                                   RuntimeWarning, stacklevel=2)\n\u001b[0;32m-> 1812\u001b[0;31m             \u001b[0;32mreturn\u001b[0m \u001b[0mfunc\u001b[0m\u001b[0;34m(\u001b[0m\u001b[0max\u001b[0m\u001b[0;34m,\u001b[0m \u001b[0;34m*\u001b[0m\u001b[0margs\u001b[0m\u001b[0;34m,\u001b[0m \u001b[0;34m**\u001b[0m\u001b[0mkwargs\u001b[0m\u001b[0;34m)\u001b[0m\u001b[0;34m\u001b[0m\u001b[0m\n\u001b[0m\u001b[1;32m   1813\u001b[0m         \u001b[0mpre_doc\u001b[0m \u001b[0;34m=\u001b[0m \u001b[0minner\u001b[0m\u001b[0;34m.\u001b[0m\u001b[0m__doc__\u001b[0m\u001b[0;34m\u001b[0m\u001b[0m\n\u001b[1;32m   1814\u001b[0m         \u001b[0;32mif\u001b[0m \u001b[0mpre_doc\u001b[0m \u001b[0;32mis\u001b[0m \u001b[0mNone\u001b[0m\u001b[0;34m:\u001b[0m\u001b[0;34m\u001b[0m\u001b[0m\n",
      "\u001b[0;32m/Users/Kennimus/anaconda/lib/python2.7/site-packages/matplotlib/axes/_axes.pyc\u001b[0m in \u001b[0;36mplot\u001b[0;34m(self, *args, **kwargs)\u001b[0m\n\u001b[1;32m   1423\u001b[0m \u001b[0;34m\u001b[0m\u001b[0m\n\u001b[1;32m   1424\u001b[0m         \u001b[0;32mfor\u001b[0m \u001b[0mline\u001b[0m \u001b[0;32min\u001b[0m \u001b[0mself\u001b[0m\u001b[0;34m.\u001b[0m\u001b[0m_get_lines\u001b[0m\u001b[0;34m(\u001b[0m\u001b[0;34m*\u001b[0m\u001b[0margs\u001b[0m\u001b[0;34m,\u001b[0m \u001b[0;34m**\u001b[0m\u001b[0mkwargs\u001b[0m\u001b[0;34m)\u001b[0m\u001b[0;34m:\u001b[0m\u001b[0;34m\u001b[0m\u001b[0m\n\u001b[0;32m-> 1425\u001b[0;31m             \u001b[0mself\u001b[0m\u001b[0;34m.\u001b[0m\u001b[0madd_line\u001b[0m\u001b[0;34m(\u001b[0m\u001b[0mline\u001b[0m\u001b[0;34m)\u001b[0m\u001b[0;34m\u001b[0m\u001b[0m\n\u001b[0m\u001b[1;32m   1426\u001b[0m             \u001b[0mlines\u001b[0m\u001b[0;34m.\u001b[0m\u001b[0mappend\u001b[0m\u001b[0;34m(\u001b[0m\u001b[0mline\u001b[0m\u001b[0;34m)\u001b[0m\u001b[0;34m\u001b[0m\u001b[0m\n\u001b[1;32m   1427\u001b[0m \u001b[0;34m\u001b[0m\u001b[0m\n",
      "\u001b[0;32m/Users/Kennimus/anaconda/lib/python2.7/site-packages/matplotlib/axes/_base.pyc\u001b[0m in \u001b[0;36madd_line\u001b[0;34m(self, line)\u001b[0m\n\u001b[1;32m   1706\u001b[0m             \u001b[0mline\u001b[0m\u001b[0;34m.\u001b[0m\u001b[0mset_clip_path\u001b[0m\u001b[0;34m(\u001b[0m\u001b[0mself\u001b[0m\u001b[0;34m.\u001b[0m\u001b[0mpatch\u001b[0m\u001b[0;34m)\u001b[0m\u001b[0;34m\u001b[0m\u001b[0m\n\u001b[1;32m   1707\u001b[0m \u001b[0;34m\u001b[0m\u001b[0m\n\u001b[0;32m-> 1708\u001b[0;31m         \u001b[0mself\u001b[0m\u001b[0;34m.\u001b[0m\u001b[0m_update_line_limits\u001b[0m\u001b[0;34m(\u001b[0m\u001b[0mline\u001b[0m\u001b[0;34m)\u001b[0m\u001b[0;34m\u001b[0m\u001b[0m\n\u001b[0m\u001b[1;32m   1709\u001b[0m         \u001b[0;32mif\u001b[0m \u001b[0;32mnot\u001b[0m \u001b[0mline\u001b[0m\u001b[0;34m.\u001b[0m\u001b[0mget_label\u001b[0m\u001b[0;34m(\u001b[0m\u001b[0;34m)\u001b[0m\u001b[0;34m:\u001b[0m\u001b[0;34m\u001b[0m\u001b[0m\n\u001b[1;32m   1710\u001b[0m             \u001b[0mline\u001b[0m\u001b[0;34m.\u001b[0m\u001b[0mset_label\u001b[0m\u001b[0;34m(\u001b[0m\u001b[0;34m'_line%d'\u001b[0m \u001b[0;34m%\u001b[0m \u001b[0mlen\u001b[0m\u001b[0;34m(\u001b[0m\u001b[0mself\u001b[0m\u001b[0;34m.\u001b[0m\u001b[0mlines\u001b[0m\u001b[0;34m)\u001b[0m\u001b[0;34m)\u001b[0m\u001b[0;34m\u001b[0m\u001b[0m\n",
      "\u001b[0;32m/Users/Kennimus/anaconda/lib/python2.7/site-packages/matplotlib/axes/_base.pyc\u001b[0m in \u001b[0;36m_update_line_limits\u001b[0;34m(self, line)\u001b[0m\n\u001b[1;32m   1728\u001b[0m         \u001b[0mFigures\u001b[0m \u001b[0mout\u001b[0m \u001b[0mthe\u001b[0m \u001b[0mdata\u001b[0m \u001b[0mlimit\u001b[0m \u001b[0mof\u001b[0m \u001b[0mthe\u001b[0m \u001b[0mgiven\u001b[0m \u001b[0mline\u001b[0m\u001b[0;34m,\u001b[0m \u001b[0mupdating\u001b[0m \u001b[0mself\u001b[0m\u001b[0;34m.\u001b[0m\u001b[0mdataLim\u001b[0m\u001b[0;34m.\u001b[0m\u001b[0;34m\u001b[0m\u001b[0m\n\u001b[1;32m   1729\u001b[0m         \"\"\"\n\u001b[0;32m-> 1730\u001b[0;31m         \u001b[0mpath\u001b[0m \u001b[0;34m=\u001b[0m \u001b[0mline\u001b[0m\u001b[0;34m.\u001b[0m\u001b[0mget_path\u001b[0m\u001b[0;34m(\u001b[0m\u001b[0;34m)\u001b[0m\u001b[0;34m\u001b[0m\u001b[0m\n\u001b[0m\u001b[1;32m   1731\u001b[0m         \u001b[0;32mif\u001b[0m \u001b[0mpath\u001b[0m\u001b[0;34m.\u001b[0m\u001b[0mvertices\u001b[0m\u001b[0;34m.\u001b[0m\u001b[0msize\u001b[0m \u001b[0;34m==\u001b[0m \u001b[0;36m0\u001b[0m\u001b[0;34m:\u001b[0m\u001b[0;34m\u001b[0m\u001b[0m\n\u001b[1;32m   1732\u001b[0m             \u001b[0;32mreturn\u001b[0m\u001b[0;34m\u001b[0m\u001b[0m\n",
      "\u001b[0;32m/Users/Kennimus/anaconda/lib/python2.7/site-packages/matplotlib/lines.pyc\u001b[0m in \u001b[0;36mget_path\u001b[0;34m(self)\u001b[0m\n\u001b[1;32m    923\u001b[0m         \"\"\"\n\u001b[1;32m    924\u001b[0m         \u001b[0;32mif\u001b[0m \u001b[0mself\u001b[0m\u001b[0;34m.\u001b[0m\u001b[0m_invalidy\u001b[0m \u001b[0;32mor\u001b[0m \u001b[0mself\u001b[0m\u001b[0;34m.\u001b[0m\u001b[0m_invalidx\u001b[0m\u001b[0;34m:\u001b[0m\u001b[0;34m\u001b[0m\u001b[0m\n\u001b[0;32m--> 925\u001b[0;31m             \u001b[0mself\u001b[0m\u001b[0;34m.\u001b[0m\u001b[0mrecache\u001b[0m\u001b[0;34m(\u001b[0m\u001b[0;34m)\u001b[0m\u001b[0;34m\u001b[0m\u001b[0m\n\u001b[0m\u001b[1;32m    926\u001b[0m         \u001b[0;32mreturn\u001b[0m \u001b[0mself\u001b[0m\u001b[0;34m.\u001b[0m\u001b[0m_path\u001b[0m\u001b[0;34m\u001b[0m\u001b[0m\n\u001b[1;32m    927\u001b[0m \u001b[0;34m\u001b[0m\u001b[0m\n",
      "\u001b[0;32m/Users/Kennimus/anaconda/lib/python2.7/site-packages/matplotlib/lines.pyc\u001b[0m in \u001b[0;36mrecache\u001b[0;34m(self, always)\u001b[0m\n\u001b[1;32m    610\u001b[0m                 \u001b[0mx\u001b[0m \u001b[0;34m=\u001b[0m \u001b[0mma\u001b[0m\u001b[0;34m.\u001b[0m\u001b[0masarray\u001b[0m\u001b[0;34m(\u001b[0m\u001b[0mxconv\u001b[0m\u001b[0;34m,\u001b[0m \u001b[0mnp\u001b[0m\u001b[0;34m.\u001b[0m\u001b[0mfloat_\u001b[0m\u001b[0;34m)\u001b[0m\u001b[0;34m.\u001b[0m\u001b[0mfilled\u001b[0m\u001b[0;34m(\u001b[0m\u001b[0mnp\u001b[0m\u001b[0;34m.\u001b[0m\u001b[0mnan\u001b[0m\u001b[0;34m)\u001b[0m\u001b[0;34m\u001b[0m\u001b[0m\n\u001b[1;32m    611\u001b[0m             \u001b[0;32melse\u001b[0m\u001b[0;34m:\u001b[0m\u001b[0;34m\u001b[0m\u001b[0m\n\u001b[0;32m--> 612\u001b[0;31m                 \u001b[0mx\u001b[0m \u001b[0;34m=\u001b[0m \u001b[0mnp\u001b[0m\u001b[0;34m.\u001b[0m\u001b[0masarray\u001b[0m\u001b[0;34m(\u001b[0m\u001b[0mxconv\u001b[0m\u001b[0;34m,\u001b[0m \u001b[0mnp\u001b[0m\u001b[0;34m.\u001b[0m\u001b[0mfloat_\u001b[0m\u001b[0;34m)\u001b[0m\u001b[0;34m\u001b[0m\u001b[0m\n\u001b[0m\u001b[1;32m    613\u001b[0m             \u001b[0mx\u001b[0m \u001b[0;34m=\u001b[0m \u001b[0mx\u001b[0m\u001b[0;34m.\u001b[0m\u001b[0mravel\u001b[0m\u001b[0;34m(\u001b[0m\u001b[0;34m)\u001b[0m\u001b[0;34m\u001b[0m\u001b[0m\n\u001b[1;32m    614\u001b[0m         \u001b[0;32melse\u001b[0m\u001b[0;34m:\u001b[0m\u001b[0;34m\u001b[0m\u001b[0m\n",
      "\u001b[0;32m/Users/Kennimus/anaconda/lib/python2.7/site-packages/numpy/core/numeric.pyc\u001b[0m in \u001b[0;36masarray\u001b[0;34m(a, dtype, order)\u001b[0m\n\u001b[1;32m    472\u001b[0m \u001b[0;34m\u001b[0m\u001b[0m\n\u001b[1;32m    473\u001b[0m     \"\"\"\n\u001b[0;32m--> 474\u001b[0;31m     \u001b[0;32mreturn\u001b[0m \u001b[0marray\u001b[0m\u001b[0;34m(\u001b[0m\u001b[0ma\u001b[0m\u001b[0;34m,\u001b[0m \u001b[0mdtype\u001b[0m\u001b[0;34m,\u001b[0m \u001b[0mcopy\u001b[0m\u001b[0;34m=\u001b[0m\u001b[0mFalse\u001b[0m\u001b[0;34m,\u001b[0m \u001b[0morder\u001b[0m\u001b[0;34m=\u001b[0m\u001b[0morder\u001b[0m\u001b[0;34m)\u001b[0m\u001b[0;34m\u001b[0m\u001b[0m\n\u001b[0m\u001b[1;32m    475\u001b[0m \u001b[0;34m\u001b[0m\u001b[0m\n\u001b[1;32m    476\u001b[0m \u001b[0;32mdef\u001b[0m \u001b[0masanyarray\u001b[0m\u001b[0;34m(\u001b[0m\u001b[0ma\u001b[0m\u001b[0;34m,\u001b[0m \u001b[0mdtype\u001b[0m\u001b[0;34m=\u001b[0m\u001b[0mNone\u001b[0m\u001b[0;34m,\u001b[0m \u001b[0morder\u001b[0m\u001b[0;34m=\u001b[0m\u001b[0mNone\u001b[0m\u001b[0;34m)\u001b[0m\u001b[0;34m:\u001b[0m\u001b[0;34m\u001b[0m\u001b[0m\n",
      "\u001b[0;31mValueError\u001b[0m: setting an array element with a sequence."
     ]
    },
    {
     "data": {
      "image/png": "[encoded data removed]",
      "text/plain": [
       "<matplotlib.figure.Figure at 0x1290ed750>"
      ]
     },
     "metadata": {},
     "output_type": "display_data"
    }
   ],
   "source": [
    "import numpy as np\n",
    "\n",
    "from sklearn.cluster import DBSCAN\n",
    "from sklearn import metrics\n",
    "from sklearn.datasets.samples_generator import make_blobs\n",
    "from sklearn.preprocessing import StandardScaler\n",
    "\n",
    "X = wookie\n",
    "\n",
    "# Generate sample data\n",
    "# centers = [[1, 1], [-1, -1], [1, -1]]\n",
    "# X, labels_true = make_blobs(n_samples=750, centers=centers, cluster_std=0.4,\n",
    "#                             random_state=0)\n",
    "\n",
    "# X = StandardScaler().fit_transform(X)\n",
    "\n",
    "# Compute DBSCAN\n",
    "db = DBSCAN(eps=0.3, min_samples=10).fit(X)\n",
    "core_samples_mask = np.zeros_like(db.labels_, dtype=bool)\n",
    "core_samples_mask[db.core_sample_indices_] = True\n",
    "labels = db.labels_\n",
    "\n",
    "# Number of clusters in labels, ignoring noise if present.\n",
    "n_clusters_ = len(set(labels)) - (1 if -1 in labels else 0)\n",
    "\n",
    "# print('Estimated number of clusters: %d' % n_clusters_)\n",
    "# print(\"Homogeneity: %0.3f\" % metrics.homogeneity_score(labels_true, labels))\n",
    "# print(\"Completeness: %0.3f\" % metrics.completeness_score(labels_true, labels))\n",
    "# print(\"V-measure: %0.3f\" % metrics.v_measure_score(labels_true, labels))\n",
    "# print(\"Adjusted Rand Index: %0.3f\"\n",
    "#       % metrics.adjusted_rand_score(labels_true, labels))\n",
    "# print(\"Adjusted Mutual Information: %0.3f\"\n",
    "#       % metrics.adjusted_mutual_info_score(labels_true, labels))\n",
    "# print(\"Silhouette Coefficient: %0.3f\"\n",
    "#       % metrics.silhouette_score(X, labels))\n",
    "\n",
    "##############################################################################\n",
    "# Plot result\n",
    "import matplotlib.pyplot as plt\n",
    "\n",
    "# Black removed and is used for noise instead.\n",
    "unique_labels = set(labels)\n",
    "colors = plt.cm.Spectral(np.linspace(0, 1, len(unique_labels)))\n",
    "for k, col in zip(unique_labels, colors):\n",
    "    if k == -1:\n",
    "        # Black used for noise.\n",
    "        col = 'k'\n",
    "\n",
    "    class_member_mask = (labels == k)\n",
    "\n",
    "    xy = X[class_member_mask & core_samples_mask]\n",
    "    plt.plot(xy[:, 0], xy[:, 1], 'o', markerfacecolor=col,\n",
    "             markeredgecolor='k', markersize=14)\n",
    "\n",
    "    xy = X[class_member_mask & ~core_samples_mask]\n",
    "    plt.plot(xy[:, 0], xy[:, 1], 'o', markerfacecolor=col,\n",
    "             markeredgecolor='k', markersize=6)\n",
    "\n",
    "plt.title('Estimated number of clusters: %d' % n_clusters_)\n",
    "plt.show()"
   ]
  },
  {
   "cell_type": "markdown",
   "metadata": {},
   "source": [
    "## sklearn Latent Dirichlet Allocation()"
   ]
  },
  {
   "cell_type": "code",
   "execution_count": null,
   "metadata": {
    "collapsed": true
   },
   "outputs": [],
   "source": [
    "ldamodel1 = LatentDirichletAllocation(n_topics = 20)\n",
    "sklearnldamodel = ldamodel1.fit_transform(tfs)"
   ]
  },
  {
   "cell_type": "code",
   "execution_count": null,
   "metadata": {
    "collapsed": false
   },
   "outputs": [],
   "source": [
    "# dir(sklearnldamodel)"
   ]
  },
  {
   "cell_type": "code",
   "execution_count": null,
   "metadata": {
    "collapsed": false,
    "scrolled": false
   },
   "outputs": [],
   "source": [
    "sklearnldamodel.shape"
   ]
  },
  {
   "cell_type": "markdown",
   "metadata": {},
   "source": [
    "## LDA - Topic modeling with Latent Dirichlet Allocation"
   ]
  },
  {
   "cell_type": "code",
   "execution_count": null,
   "metadata": {
    "collapsed": false
   },
   "outputs": [],
   "source": [
    "# import lda.datasets\n",
    "# X = lda.datasets.load_reuters()\n",
    "# vocab = lda.datasets.load_reuters_vocab()\n",
    "# titles = lda.datasets.load_reuters_titles()\n",
    "\n",
    "# ldamodel3 = lda.LDA(n_topics=20, n_iter=1500, random_state=1)\n",
    "\n",
    "# ldamodel3.fit_transform(X)\n",
    "# topic_word = ldamodel3.topic_word_  # model.components_ also works\n",
    "\n",
    "# n_top_words = 8\n",
    "# for i, topic_dist in enumerate(topic_word):\n",
    "#     topic_words = np.array(vocab)[np.argsort(topic_dist)][:-(n_top_words+1):-1]\n",
    "#     print('Topic {}: {}'.format(i, ' '.join(topic_words)))"
   ]
  },
  {
   "cell_type": "code",
   "execution_count": null,
   "metadata": {
    "collapsed": false
   },
   "outputs": [],
   "source": [
    "# doc_topic = ldamodel3.doc_topic_\n",
    "# for i in range(10):\n",
    "#     print(\"{} (top topic: {})\".format(titles[i], doc_topic[i].argmax()))"
   ]
  },
  {
   "cell_type": "markdown",
   "metadata": {},
   "source": [
    "## LDA with Resume Data"
   ]
  },
  {
   "cell_type": "code",
   "execution_count": 40,
   "metadata": {
    "collapsed": false
   },
   "outputs": [
    {
     "data": {
      "text/plain": [
       "7629"
      ]
     },
     "execution_count": 40,
     "metadata": {},
     "output_type": "execute_result"
    }
   ],
   "source": [
    "vectorizer = CountVectorizer(min_df=1, ngram_range=(1, 1), stop_words = 'english', analyzer = 'word', \n",
    "                             strip_accents = None)\n",
    "\n",
    "corpusmatrix = vectorizer.fit_transform(corpus)\n",
    "\n",
    "words = []\n",
    "for key, val in vectorizer.vocabulary_.items():\n",
    "    words.append(key)\n",
    "    \n",
    "len(words)"
   ]
  },
  {
   "cell_type": "code",
   "execution_count": 39,
   "metadata": {
    "collapsed": false
   },
   "outputs": [
    {
     "ename": "NameError",
     "evalue": "name 'corpusmatrix' is not defined",
     "output_type": "error",
     "traceback": [
      "\u001b[0;31m---------------------------------------------------------------------------\u001b[0m",
      "\u001b[0;31mNameError\u001b[0m                                 Traceback (most recent call last)",
      "\u001b[0;32m<ipython-input-39-9ed923db22a1>\u001b[0m in \u001b[0;36m<module>\u001b[0;34m()\u001b[0m\n\u001b[0;32m----> 1\u001b[0;31m \u001b[0mpairwise_distances\u001b[0m\u001b[0;34m(\u001b[0m\u001b[0mcorpusmatrix\u001b[0m\u001b[0;34m,\u001b[0m \u001b[0mmetric\u001b[0m \u001b[0;34m=\u001b[0m \u001b[0;34m'euclidean'\u001b[0m\u001b[0;34m)\u001b[0m\u001b[0;34m\u001b[0m\u001b[0m\n\u001b[0m",
      "\u001b[0;31mNameError\u001b[0m: name 'corpusmatrix' is not defined"
     ]
    }
   ],
   "source": [
    "pairwise_distances(corpusmatrix, metric = 'euclidean')"
   ]
  },
  {
   "cell_type": "code",
   "execution_count": null,
   "metadata": {
    "collapsed": false
   },
   "outputs": [],
   "source": [
    "ldamodel2 = lda.LDA(n_topics=10, n_iter=1500, random_state=1)\n",
    "\n",
    "ldamodel2.fit_transform(corpusmatrix)  # model.fit_transform(X) is also available\n",
    "topic_word2 = ldamodel2.topic_word_  # model.components_ also works"
   ]
  },
  {
   "cell_type": "code",
   "execution_count": null,
   "metadata": {
    "collapsed": false
   },
   "outputs": [],
   "source": [
    "ldamodel2.topic_word_"
   ]
  },
  {
   "cell_type": "code",
   "execution_count": null,
   "metadata": {
    "collapsed": false
   },
   "outputs": [],
   "source": [
    "print corpusmatrix.shape, len(words), len(topic_word2), type(ldamodel2)"
   ]
  },
  {
   "cell_type": "code",
   "execution_count": null,
   "metadata": {
    "collapsed": false
   },
   "outputs": [],
   "source": [
    "topic_word2"
   ]
  },
  {
   "cell_type": "code",
   "execution_count": null,
   "metadata": {
    "collapsed": false
   },
   "outputs": [],
   "source": [
    "n_top_words = 8\n",
    "for i, topic_dist in enumerate(topic_word2):\n",
    "    topic_words = np.array(words)[np.argsort(topic_dist)][:-(n_top_words+1):-1]\n",
    "    print('Topic {}: {}'.format(i, ' '.join(topic_words)))"
   ]
  },
  {
   "cell_type": "code",
   "execution_count": null,
   "metadata": {
    "collapsed": false
   },
   "outputs": [],
   "source": [
    "doc_topic2 = ldamodel2.doc_topic_\n",
    "\n",
    "resumedict = defaultdict(int)\n",
    "resumedict2 = defaultdict(list)\n",
    "\n",
    "for i in range(75):\n",
    "#     print(\"{} (top topic: {})\".format('Resume ' + str(i + 1), doc_topic2[i].argmax()))\n",
    "    resumedict[doc_topic2[i].argmax()] += 1\n",
    "    resumedict2[doc_topic2[i].argmax()].append(i)"
   ]
  },
  {
   "cell_type": "code",
   "execution_count": null,
   "metadata": {
    "collapsed": false
   },
   "outputs": [],
   "source": [
    "plt.figure(figsize=(5,3))\n",
    "sns.set_style(\"whitegrid\")\n",
    "ax = plt.subplot(111)\n",
    "ax.spines['right'].set_visible(False)\n",
    "ax.spines['top'].set_visible(False)\n",
    "\n",
    "plt.bar(range(len(resumedict.values())), resumedict.values(),\n",
    "        align = 'center', color = colors[2], alpha = 0.4, label = '')\n",
    "\n",
    "plt.xticks(range(len(resumedict.values())),range(len(resumedict.values())))\n",
    "# plt.xlim(0.0,1.1)\n",
    "# plt.ylim(0.0,1.1)\n",
    "plt.title('Topics\\n', fontsize=14, fontweight='normal')\n",
    "plt.xlabel('LDA Topic Categories', fontsize=12)\n",
    "plt.ylabel('Resume Count', fontsize=12)\n",
    "     \n",
    "plt.legend()\n",
    "plt.grid(False)"
   ]
  },
  {
   "cell_type": "code",
   "execution_count": null,
   "metadata": {
    "collapsed": false
   },
   "outputs": [],
   "source": [
    "resumedict"
   ]
  },
  {
   "cell_type": "code",
   "execution_count": null,
   "metadata": {
    "collapsed": false
   },
   "outputs": [],
   "source": [
    "resumedict2"
   ]
  },
  {
   "cell_type": "markdown",
   "metadata": {},
   "source": [
    "## Create a JSON Data file"
   ]
  },
  {
   "cell_type": "code",
   "execution_count": 1171,
   "metadata": {
    "collapsed": false
   },
   "outputs": [
    {
     "ename": "NameError",
     "evalue": "name 'doc_topic2' is not defined",
     "output_type": "error",
     "traceback": [
      "\u001b[0;31m---------------------------------------------------------------------------\u001b[0m",
      "\u001b[0;31mNameError\u001b[0m                                 Traceback (most recent call last)",
      "\u001b[0;32m<ipython-input-1171-6d3dc137189c>\u001b[0m in \u001b[0;36m<module>\u001b[0;34m()\u001b[0m\n\u001b[1;32m      4\u001b[0m \u001b[0;32mfor\u001b[0m \u001b[0mi\u001b[0m \u001b[0;32min\u001b[0m \u001b[0mrange\u001b[0m\u001b[0;34m(\u001b[0m\u001b[0mend\u001b[0m\u001b[0;34m)\u001b[0m\u001b[0;34m:\u001b[0m\u001b[0;34m\u001b[0m\u001b[0m\n\u001b[1;32m      5\u001b[0m     \u001b[0mfilename\u001b[0m \u001b[0;34m=\u001b[0m \u001b[0;34m'0'\u001b[0m \u001b[0;34m*\u001b[0m \u001b[0;34m(\u001b[0m\u001b[0;36m3\u001b[0m \u001b[0;34m-\u001b[0m \u001b[0mlen\u001b[0m\u001b[0;34m(\u001b[0m\u001b[0mstr\u001b[0m\u001b[0;34m(\u001b[0m\u001b[0mi\u001b[0m \u001b[0;34m+\u001b[0m \u001b[0;36m1\u001b[0m\u001b[0;34m)\u001b[0m\u001b[0;34m)\u001b[0m\u001b[0;34m)\u001b[0m \u001b[0;34m+\u001b[0m \u001b[0mstr\u001b[0m\u001b[0;34m(\u001b[0m\u001b[0mi\u001b[0m \u001b[0;34m+\u001b[0m \u001b[0;36m1\u001b[0m\u001b[0;34m)\u001b[0m\u001b[0;34m\u001b[0m\u001b[0m\n\u001b[0;32m----> 6\u001b[0;31m     \u001b[0;32mprint\u001b[0m \u001b[0;34m'{\\\"name\\\":\\\"Resume '\u001b[0m \u001b[0;34m+\u001b[0m \u001b[0mfilename\u001b[0m \u001b[0;34m+\u001b[0m \u001b[0;34m'\",\\\"group\\\":'\u001b[0m \u001b[0;34m+\u001b[0m \u001b[0mstr\u001b[0m\u001b[0;34m(\u001b[0m\u001b[0mdoc_topic2\u001b[0m\u001b[0;34m[\u001b[0m\u001b[0mi\u001b[0m\u001b[0;34m]\u001b[0m\u001b[0;34m.\u001b[0m\u001b[0margmax\u001b[0m\u001b[0;34m(\u001b[0m\u001b[0;34m)\u001b[0m\u001b[0;34m)\u001b[0m \u001b[0;34m+\u001b[0m\u001b[0;34m'},'\u001b[0m\u001b[0;34m\u001b[0m\u001b[0m\n\u001b[0m",
      "\u001b[0;31mNameError\u001b[0m: name 'doc_topic2' is not defined"
     ]
    }
   ],
   "source": [
    "# {\"name\":\"Gillenormand\",\"group\":5},\n",
    "end = 75\n",
    "\n",
    "for i in range(end):\n",
    "    filename = '0' * (3 - len(str(i + 1))) + str(i + 1)\n",
    "    print '{\\\"name\\\":\\\"Resume ' + filename + '\",\\\"group\\\":' + str(doc_topic2[i].argmax()) +'},'"
   ]
  },
  {
   "cell_type": "code",
   "execution_count": null,
   "metadata": {
    "collapsed": false
   },
   "outputs": [],
   "source": [
    "# {\"source\":36,\"target\":11,\"value\":2},\n",
    "from random import randint\n",
    "\n",
    "for i in range(end):\n",
    "    filename = '0' * (3 - len(str(i + 1))) + str(i + 1)\n",
    "    print '{\\\"source\\\":' + str(i) + ',\\\"target\\\":' + str(randint(0,74)) + ',\\\"value\\\":' + str(randint(0,9)) + '},'"
   ]
  },
  {
   "cell_type": "code",
   "execution_count": null,
   "metadata": {
    "collapsed": true
   },
   "outputs": [],
   "source": []
  }
 ],
 "metadata": {
  "kernelspec": {
   "display_name": "Python 2",
   "language": "python",
   "name": "python2"
  },
  "language_info": {
   "codemirror_mode": {
    "name": "ipython",
    "version": 2
   },
   "file_extension": ".py",
   "mimetype": "text/x-python",
   "name": "python",
   "nbconvert_exporter": "python",
   "pygments_lexer": "ipython2",
   "version": "2.7.11"
  }
 },
 "nbformat": 4,
 "nbformat_minor": 0
}
